{
 "cells": [
  {
   "cell_type": "markdown",
   "metadata": {},
   "source": [
    "<center>\n",
    "In God We Trust\n",
    "</center>"
   ]
  },
  {
   "cell_type": "markdown",
   "metadata": {},
   "source": [
    "# CE417: Artificial Intelligence\n",
    "\n",
    "Dr. Mahdiyeh Soleymani Baghshah\n",
    "\n",
    "Computer Engineering Department,\n",
    "Sharif University of Technology,\n",
    "Tehran, Tehran, Iran\n"
   ]
  },
  {
   "cell_type": "markdown",
   "metadata": {},
   "source": [
    "## Markov Decision Process (30 Points)\n",
    "\n",
    "HW3 :: Practical Question 2\n",
    "\n",
    "<br>\n",
    "\n",
    "Corresponding TA: Aryan Ahadinia, Saeed Hedayatiyan\n"
   ]
  },
  {
   "cell_type": "markdown",
   "metadata": {},
   "source": [
    "In this question, We're going to implement a generic MDP solver, so we can solve every question by passing transition and reward functions. We use an example to test our implementation but it's important to write MDP solver functions in a generic form. So it's important to maintain notebook structure and only write codes and comment in annotated areas."
   ]
  },
  {
   "cell_type": "markdown",
   "metadata": {},
   "source": [
    "### Modeling a Problem (5 Points)\n",
    "\n",
    "In a TV quiz show, there are several levels. At each level, if the participant answers the question correctly, they will receive some prize. If the participant's answer is wrong, they leave the competition empty-handed. Before each stage begins, the participant can decide whether to continue or withdraw and leave the game with the reward which they already earned.\n",
    "\n",
    "Beside states representing each level, There are three terminal states of Win, Lost and Quit in the game. Actions in each state are quit and play. The player will go to the quit state with probability of 1 if they decide to take action quit. otherwise they will pass the level i by probability of win_ratio[i] and go to the state which represents the next level.\n",
    "\n",
    "So the play / quit decision problem can be modeled as an MDP as below.\n",
    "\n",
    "<p align=\"center\">\n",
    "<image src=\"./assets/quiz_problem.png\">\n",
    "</p>\n",
    "\n",
    "Considering $100, $200, $300, $400 and $500 as rewards and 0.9, 0.7, 0.6, 0.3, 0.1 as win ratio for levels 0 to 4 respectively.\n",
    "\n",
    "Complete two cells below to model the problem as an MDP. Write levels and actions as an str.\n"
   ]
  },
  {
   "cell_type": "code",
   "execution_count": 2,
   "metadata": {},
   "outputs": [],
   "source": [
    "quiz_levels = [\n",
    "    '0', '1', '2', '3', '4'\n",
    "]\n",
    "quiz_terminals = [\n",
    "    'Win', 'Lost', 'Quit'\n",
    "]\n",
    "\n",
    "quiz_states = quiz_levels + quiz_terminals\n",
    "quiz_actions = [\n",
    "    'Play', 'Quit'\n",
    "]\n"
   ]
  },
  {
   "cell_type": "code",
   "execution_count": 3,
   "metadata": {},
   "outputs": [],
   "source": [
    "from typing import Callable\n",
    "from typing import List\n",
    "from typing import Tuple\n",
    "from typing import Union\n"
   ]
  },
  {
   "cell_type": "code",
   "execution_count": 4,
   "metadata": {},
   "outputs": [],
   "source": [
    "def quiz_transition(state: str, action: str, next_state: str) -> float:\n",
    "    if action == 'Quit':\n",
    "        if next_state == 'Quit':\n",
    "            return float(1)\n",
    "    if action == 'Play':\n",
    "        if state == '0':\n",
    "            if next_state == '1':\n",
    "                return 0.9\n",
    "            elif next_state == 'Lost':\n",
    "                return 0.1\n",
    "        elif state == '1':\n",
    "            if next_state == '2':\n",
    "                return 0.7\n",
    "            elif next_state == 'Lost':\n",
    "                return 0.3\n",
    "        elif state == '2':\n",
    "            if next_state == '3':\n",
    "                return 0.6\n",
    "            elif next_state == 'Lost':\n",
    "                return 0.4\n",
    "        elif state == '3':\n",
    "            if next_state == '4':\n",
    "                return 0.3\n",
    "            elif next_state == 'Lost':\n",
    "                return 0.7\n",
    "        elif state == '4':\n",
    "            if next_state == 'Win':\n",
    "                return 0.1\n",
    "            elif next_state == 'Lost':\n",
    "                return 0.9\n",
    "    \n",
    "    return float(0)\n",
    "\n",
    "\n",
    "def quiz_reward(state: str, action: str, next_state: str) -> Union[float, int]:\n",
    "    if state == '0':\n",
    "        if next_state == '1':\n",
    "            return float(100)\n",
    "        else:\n",
    "            return float(0)\n",
    "    if state == '1':\n",
    "        if action == 'Quit':\n",
    "            return float(0)\n",
    "        elif next_state == 'Lost':\n",
    "            return float(-100)\n",
    "        elif next_state == '2':\n",
    "            return float(200)\n",
    "    if state == '2':\n",
    "        if action == 'Quit':\n",
    "            return float(0)\n",
    "        elif next_state == 'Lost':\n",
    "            return float(-300)\n",
    "        elif next_state == '3':\n",
    "            return float(300)\n",
    "    if state == '3':\n",
    "        if action == 'Quit':\n",
    "            return float(0)\n",
    "        elif next_state == 'Lost':\n",
    "            return float(-600)\n",
    "        elif next_state == '4':\n",
    "            return float(400)\n",
    "    if state == '4':\n",
    "        if action == 'Quit':\n",
    "            return float(0)\n",
    "        elif next_state == 'Win':\n",
    "            return float(500)\n",
    "        else:\n",
    "            return float(-1000)\n",
    "    else:\n",
    "        return float(0)"
   ]
  },
  {
   "cell_type": "markdown",
   "metadata": {},
   "source": [
    "### Value Iteration (10 Points)\n",
    "\n",
    "Now we want to implement a function which does the value iteration process. Consider that this function must be a generic function to all MDP problems. So any internal reference to global variables is forbidden.\n",
    "\n",
    "This function gets transition function, reward function, discounting factor (gamma), list of states, list of terminal states, list of all possible actions and current value of each state as input and must return two lists: (1) updated values of each state and (2) list of best action which can be taken in each state regarding current values.\n"
   ]
  },
  {
   "cell_type": "code",
   "execution_count": 5,
   "metadata": {},
   "outputs": [],
   "source": [
    "def mdp_iterate(\n",
    "    transition_function: Callable[[str, str, str], float],\n",
    "    reward_function: Callable[[str, str, str], float],\n",
    "    gamma: float,\n",
    "    states: List[str],\n",
    "    terminals: List[str],\n",
    "    actions: List[str],\n",
    "    current_values: List[Union[float, int]],\n",
    ") -> Tuple[List[Union[float, int]]]:\n",
    "    new_values = []\n",
    "    best_actions = []\n",
    "    length_of_states = len(states)\n",
    "    for state in states:\n",
    "        move = \"\"\n",
    "        max_v = 0\n",
    "        for action in actions:\n",
    "            v_k_1 = 0\n",
    "            for i in range(0, length_of_states):\n",
    "                v_k_1 += transition_function(state, action, states[i]) * (reward_function(state, action, states[i]) + gamma * current_values[i])\n",
    "            if v_k_1 >= max_v:\n",
    "                max_v = v_k_1\n",
    "                move = action\n",
    "        new_values.append(max_v)\n",
    "        best_actions.append(move)\n",
    "    return new_values, best_actions\n"
   ]
  },
  {
   "cell_type": "markdown",
   "metadata": {},
   "source": [
    "### MDP Solving (5 Points)\n",
    "\n",
    "Now write a function to use the iterative approach to calculate values of each state and solve the MDP problem.\n",
    "\n",
    "This function gets transition function, reward function, discounting factor (gamma), list of states, list of terminal states, list of all possible actions and number of iterations as input and must return a dictionary which maps states to best action can be taken. For example:\n",
    "\n",
    "```Python\n",
    "{\n",
    "    'S1': 'A1',\n",
    "    'S2': 'A2',\n",
    "    ...\n",
    "}\n",
    "```\n"
   ]
  },
  {
   "cell_type": "code",
   "execution_count": 6,
   "metadata": {},
   "outputs": [],
   "source": [
    "from typing import Dict\n",
    "\n",
    "\n",
    "def mdp_solve(\n",
    "    transition_function: Callable[[str, str, str], float],\n",
    "    reward_function: Callable[[str, str, str], float],\n",
    "    gamma: float,\n",
    "    states: List[str],\n",
    "    terminals: List[str],\n",
    "    actions: List[str],\n",
    "    iter_: int, # iter is a reserved keyword in function\n",
    ") -> Dict['str', 'str']:\n",
    "    \n",
    "    current_values = [0] * len(states)\n",
    "    values = []\n",
    "    \n",
    "    for k in range(0, iter_):\n",
    "        new_values, best_actions = mdp_iterate(transition_function, reward_function, gamma, states, terminals, actions, current_values)  \n",
    "    for i in range(0,len(best_actions)):\n",
    "        if states[i] in terminals:\n",
    "            best_actions[i] = ''\n",
    "    res = {states[i]: best_actions[i] for i in range(len(states))}\n",
    "    \n",
    "    return res \n"
   ]
  },
  {
   "cell_type": "markdown",
   "metadata": {},
   "source": [
    "By now, running this code must solve the problem described above.\n"
   ]
  },
  {
   "cell_type": "code",
   "execution_count": 7,
   "metadata": {},
   "outputs": [
    {
     "data": {
      "text/plain": [
       "{'0': 'Play',\n",
       " '1': 'Play',\n",
       " '2': 'Play',\n",
       " '3': 'Quit',\n",
       " '4': 'Quit',\n",
       " 'Win': '',\n",
       " 'Lost': '',\n",
       " 'Quit': ''}"
      ]
     },
     "execution_count": 7,
     "metadata": {},
     "output_type": "execute_result"
    }
   ],
   "source": [
    "mdp_solve(\n",
    "    quiz_transition,\n",
    "    quiz_reward,\n",
    "    1,\n",
    "    quiz_states,\n",
    "    quiz_terminals,\n",
    "    quiz_actions,\n",
    "    1000,\n",
    ")\n"
   ]
  },
  {
   "cell_type": "markdown",
   "metadata": {},
   "source": [
    "### Analyzing effect of discounting factor (10 Points)"
   ]
  },
  {
   "cell_type": "markdown",
   "metadata": {},
   "source": [
    "Now, solve the problem for different values of discounting factor. Then draw a plot to show how increasing discounting factor effect on best decision that should be take. Then write a paragraph about the result."
   ]
  },
  {
   "cell_type": "code",
   "execution_count": 9,
   "metadata": {},
   "outputs": [
    {
     "data": {
      "image/png": "[encoded data removed]",
      "text/plain": [
       "<Figure size 864x432 with 5 Axes>"
      ]
     },
     "metadata": {
      "needs_background": "light"
     },
     "output_type": "display_data"
    },
    {
     "data": {
      "image/png": "[encoded data removed]",
      "text/plain": [
       "<Figure size 864x432 with 5 Axes>"
      ]
     },
     "metadata": {
      "needs_background": "light"
     },
     "output_type": "display_data"
    }
   ],
   "source": [
    "import matplotlib.pyplot as plt\n",
    "\n",
    "X = [x / 9.0 for x in range(0, 10)]\n",
    "Y = []\n",
    "current_values = [0] * len(quiz_states)\n",
    "for gamma in X:\n",
    "    for k in range(0, 1000):\n",
    "        new_values, best_actions = mdp_iterate(quiz_transition, quiz_reward, gamma, quiz_states, quiz_terminals, quiz_actions, current_values)\n",
    "        current_values = new_values\n",
    "    Y.append(new_values)\n",
    "\n",
    "    \n",
    "fig = plt.figure(figsize=(12, 6))\n",
    "\n",
    "for i in range(5):\n",
    "    plt.subplot(2, 5, i + 1)\n",
    "    plt.gca().set_title(f'gamma: {round(X[i], 4)}')\n",
    "    plt.plot(Y[i], color = 'mediumslateblue')\n",
    "\n",
    "    \n",
    "fig = plt.figure(figsize=(12, 6))\n",
    "\n",
    "for i in range(5):\n",
    "    plt.subplot(2, 5, i + 1)\n",
    "    plt.gca().set_title(f'gamma: {round(X[i+5], 4)}')\n",
    "    plt.plot(Y[i+5], color = 'mediumslateblue')\n"
   ]
  },
  {
   "cell_type": "markdown",
   "metadata": {},
   "source": [
    "Here I drew the plot for 10 different gammas and plotted their best values. We can see that the values all converge to zero at some point. The actions do not differ that much because the final results are quite obvious and therefore the decisions are not that hard to make. When we get closer to the final actions, quitting makes more sense knowing the probability is decreasing aggressively. Almost to the point where taking the last steps is counted as a huge loss. The policy is not that dependent to the gamma variable because this example is not complicated enough."
   ]
  }
 ],
 "metadata": {
  "kernelspec": {
   "display_name": "Python 3 (ipykernel)",
   "language": "python",
   "name": "python3"
  },
  "language_info": {
   "codemirror_mode": {
    "name": "ipython",
    "version": 3
   },
   "file_extension": ".py",
   "mimetype": "text/x-python",
   "name": "python",
   "nbconvert_exporter": "python",
   "pygments_lexer": "ipython3",
   "version": "3.10.11"
  },
  "vscode": {
   "interpreter": {
    "hash": "aee8b7b246df8f9039afb4144a1f6fd8d2ca17a180786b69acc140d282b71a49"
   }
  }
 },
 "nbformat": 4,
 "nbformat_minor": 2
}
