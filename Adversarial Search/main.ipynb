{
 "cells": [
  {
   "cell_type": "markdown",
   "metadata": {},
   "source": [
    "<center>\n",
    "In God We Trust\n",
    "</center>"
   ]
  },
  {
   "cell_type": "markdown",
   "metadata": {},
   "source": [
    "# CE417: Artificial Intelligence\n",
    "\n",
    "Dr. Mahdiyeh Soleymani Baghshah\n",
    "\n",
    "Computer Engineering Department,\n",
    "Sharif University of Technology,\n",
    "Tehran, Tehran, Iran\n"
   ]
  },
  {
   "cell_type": "markdown",
   "metadata": {},
   "source": [
    "## Adversarial Search (25 Points)\n",
    "\n",
    "HW3 :: Practical Question 1\n",
    "\n",
    "<br>\n",
    "\n",
    "Corresponding TA: Aryan Ahadinia, Saeed Hedayatiyan\n"
   ]
  },
  {
   "cell_type": "markdown",
   "metadata": {},
   "source": [
    "Consider the given $8\\times8$ board game. There are two players in this game and they try to block each other and limit their valid moves by making walls. Their moves are limited to the 8 cells (or less when they are around the edges) beside them and the walls will start to appear only when a player steps into a random generated yellow cell and the wall will continue to be built until the player reaches the next yellow cell. The players start the game at $(0, 0)$ and $(7, 7)$ and they keep playing until one of them loses. There are multiple ways for a player to win the match:\n",
    "\n",
    "- If a player steps into a wall or out of the board, the player loses the match!\n",
    "- If the players reach the maximum moves the game finishes and the winner would be chosen based on the maximum valid move they have left plus the number of walls they have made and \"No more moves\" massege will appear on terminal.\n",
    "- If the getMove() function does not return any value after 2 seconds, the player loses the match and \"Time limit exceeded\" massage will appear on terminal.\n",
    "\n",
    "<center>\n",
    "<img src=\"assets/Q3.png\" style=\"width: 50%\"/>\n",
    "</center>\n"
   ]
  },
  {
   "cell_type": "markdown",
   "metadata": {},
   "source": [
    "In this question, the codes for starting the game were provided for you in Helper-codes folder. You are expected to implement the MinimaxPlayer class (which inherit the Player class) with alpha-beta pruning."
   ]
  },
  {
   "cell_type": "code",
   "execution_count": 1,
   "metadata": {},
   "outputs": [
    {
     "name": "stdout",
     "output_type": "stream",
     "text": [
      "Requirement already satisfied: tk in c:\\users\\asus\\appdata\\local\\programs\\python\\python310\\lib\\site-packages (0.1.0)\n",
      "Note: you may need to restart the kernel to use updated packages.\n"
     ]
    }
   ],
   "source": [
    "%pip install tk"
   ]
  },
  {
   "cell_type": "code",
   "execution_count": 2,
   "metadata": {},
   "outputs": [],
   "source": [
    "import numpy as np\n",
    "import random\n",
    "import time\n",
    "import math\n",
    "from copy import deepcopy\n",
    "\n",
    "from Helper_codes.graphics import *\n",
    "from Helper_codes.question3 import Cell\n",
    "from Helper_codes.question3 import IntPair\n",
    "from Helper_codes.question3 import Player\n",
    "from Helper_codes.question3 import NaivePlayer\n",
    "from Helper_codes.question3 import Board\n",
    "from Helper_codes.question3 import Game\n"
   ]
  },
  {
   "cell_type": "markdown",
   "metadata": {},
   "source": [
    "You can run cell below and watch two naive players."
   ]
  },
  {
   "cell_type": "code",
   "execution_count": 3,
   "metadata": {},
   "outputs": [
    {
     "name": "stdout",
     "output_type": "stream",
     "text": [
      "Player 1 has exceeded the time limit\n",
      "Player 2 has won\n",
      "\n",
      "0.0\n"
     ]
    }
   ],
   "source": [
    "p1 = NaivePlayer(1, 0, 0)\n",
    "p2 = NaivePlayer(2, 7, 7)\n",
    "\n",
    "g = Game(p1, p2)\n",
    "\n",
    "numberOfMatches = 1\n",
    "score1, score2 = g.start(numberOfMatches)\n",
    "\n",
    "print(score1 / numberOfMatches)\n"
   ]
  },
  {
   "cell_type": "code",
   "execution_count": 6,
   "metadata": {},
   "outputs": [],
   "source": [
    "class MinimaxPlayer(Player):\n",
    "    final_action = IntPair(-10, -10)\n",
    "    def __init__(self, col, x, y, max_depth=4):\n",
    "        super().__init__(col, x, y)\n",
    "        self.max_depth = max_depth\n",
    "\n",
    "    ##############################\n",
    "    ## Feel free to add methods ##\n",
    "    ##############################\n",
    "    def possible_actions(self, board):\n",
    "        actions = []\n",
    "        size = board.getSize()\n",
    "        x = board.getPlayerX(self.getCol())\n",
    "        y = board.getPlayerY(self.getCol())\n",
    "        xx = board.getPlayerX(3 - self.getCol())\n",
    "        yy = board.getPlayerY(3 - self.getCol())\n",
    "        \n",
    "        if (x + 1 < size and y + 1 < size and (board.getCell(x + 1, y + 1).getColor() == 0 or board.getCell(x + 1, y + 1).getColor() == 3) and (x + 1 != xx or y + 1 != yy)):\n",
    "            actions.append(IntPair(x + 1, y + 1))\n",
    "        if (x + 1 < size and (board.getCell(x + 1, y).getColor() == 0 or board.getCell(x + 1, y).getColor() == 3) and (x + 1 != xx or y != yy)):\n",
    "            actions.append(IntPair(x + 1, y))\n",
    "        if (y + 1 < size and (board.getCell(x, y + 1).getColor() == 0 or board.getCell(x, y + 1).getColor() == 3) and (x != xx or y + 1 != yy)):\n",
    "            actions.append(IntPair(x, y + 1))\n",
    "        if (x - 1 >= 0 and y - 1 >= 0 and (board.getCell(x - 1, y - 1).getColor() == 0 or board.getCell(x - 1, y - 1).getColor() == 3) and (x - 1 != xx or y - 1 != yy)):\n",
    "            actions.append(IntPair(x - 1, y - 1))\n",
    "        if (x - 1 >= 0 and (board.getCell(x - 1, y).getColor() == 0 or board.getCell(x - 1, y).getColor() == 3) and (x - 1 != xx or y != yy)):\n",
    "            actions.append(IntPair(x - 1, y))\n",
    "        if (y - 1 >= 0 and (board.getCell(x, y - 1).getColor() == 0 or board.getCell(x, y - 1).getColor() == 3) and (x != xx or y - 1 != yy)):\n",
    "            actions.append(IntPair(x, y - 1))\n",
    "        if (x + 1 < size and y - 1 >= 0 and (board.getCell(x + 1, y - 1).getColor() == 0 or board.getCell(x + 1, y - 1).getColor() == 3) and (x + 1 != xx or y - 1 != yy)):\n",
    "            actions.append(IntPair(x + 1, y - 1))\n",
    "        if (x - 1 >= 0 and y + 1 < size and (board.getCell(x - 1, y + 1).getColor() == 0 or board.getCell(x - 1, y + 1).getColor() == 3) and (x - 1 != xx or y + 1 != yy)):\n",
    "            actions.append(IntPair(x - 1, y + 1))\n",
    "        return actions\n",
    "    \n",
    "    def min_value(self, board, alpha, beta, depth):\n",
    "        ##########################\n",
    "        # Code Here! (10 Points) #\n",
    "        # Use alpha-beta pruning #\n",
    "        ##########################\n",
    "        if (depth > self.max_depth):\n",
    "            return board.getScore(self.getCol())\n",
    "        v = math.inf\n",
    "        actions = self.possible_actions(board)\n",
    "        for action in actions:\n",
    "            copy_board = deepcopy(board)\n",
    "            copy_board.move(action, self.getCol())\n",
    "            v_unchanged = v\n",
    "            v = min(v, self.max_value(copy_board, alpha, beta, depth + 1))\n",
    "            if v != v_unchanged:\n",
    "                self.final_action = action\n",
    "            if v <= alpha:\n",
    "                return v\n",
    "            beta = min(beta, v)\n",
    "        return v\n",
    "\n",
    "    def max_value(self, board, alpha, beta, depth):\n",
    "        ##########################\n",
    "        # Code Here! (10 Points) #\n",
    "        # Use alpha-beta pruning #\n",
    "        ##########################\n",
    "        if (depth > self.max_depth):\n",
    "            return board.getScore(self.getCol())\n",
    "        v = -math.inf\n",
    "        actions = self.possible_actions(board)\n",
    "        for action in actions:\n",
    "            copy_board = deepcopy(board)\n",
    "            copy_board.move(action, self.getCol())\n",
    "            v_unchanged = v\n",
    "            v = max(v, self.min_value(copy_board, alpha, beta, depth + 1))\n",
    "            if v != v_unchanged:\n",
    "                self.final_action = action\n",
    "            if v >= beta:\n",
    "                return v\n",
    "            alpha = max(alpha, v)\n",
    "        return v\n",
    "\n",
    "    def getMove(self, board):\n",
    "        ################################################################################\n",
    "        # Code Here! (5 Points)                                                       #\n",
    "        # return IntPair(-10, -10) when time limit exceeded or there is no possible move #\n",
    "        # return IntPair(20, 20) when max number of moves exceeded                     #\n",
    "        ################################################################################\n",
    "        possible_actions_1 = self.possible_actions(board)\n",
    "        if (len(possible_actions_1) == 0):\n",
    "            return IntPair(-10, -10)\n",
    "        \n",
    "        start = time.time()\n",
    "        v = self.max_value(deepcopy(board), -math.inf, math.inf, 0)\n",
    "        \n",
    "        \n",
    "        if (board.getNumberOfMoves() > board.maxNumberOfMoves):\n",
    "            return IntPair(20, 20) \n",
    "        \n",
    "        \n",
    "        return self.final_action\n",
    "\n"
   ]
  },
  {
   "cell_type": "code",
   "execution_count": 8,
   "metadata": {},
   "outputs": [
    {
     "name": "stdout",
     "output_type": "stream",
     "text": [
      "0.1\n"
     ]
    }
   ],
   "source": [
    "p1 = MinimaxPlayer(1, 0, 0)\n",
    "p2 = NaivePlayer(2, 7, 7)\n",
    "\n",
    "g = Game(p1, p2)\n",
    "\n",
    "number_of_matches = 10\n",
    "score1, score2 = g.start(number_of_matches)\n",
    "\n",
    "print(score1 / number_of_matches)\n"
   ]
  },
  {
   "cell_type": "code",
   "execution_count": null,
   "metadata": {},
   "outputs": [],
   "source": []
  }
 ],
 "metadata": {
  "kernelspec": {
   "display_name": "Python 3 (ipykernel)",
   "language": "python",
   "name": "python3"
  },
  "language_info": {
   "codemirror_mode": {
    "name": "ipython",
    "version": 3
   },
   "file_extension": ".py",
   "mimetype": "text/x-python",
   "name": "python",
   "nbconvert_exporter": "python",
   "pygments_lexer": "ipython3",
   "version": "3.10.11"
  },
  "vscode": {
   "interpreter": {
    "hash": "aee8b7b246df8f9039afb4144a1f6fd8d2ca17a180786b69acc140d282b71a49"
   }
  }
 },
 "nbformat": 4,
 "nbformat_minor": 2
}
