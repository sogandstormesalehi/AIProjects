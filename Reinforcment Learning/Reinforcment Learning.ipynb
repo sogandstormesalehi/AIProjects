{
 "cells": [
  {
   "cell_type": "markdown",
   "metadata": {
    "id": "0MJtQYNJx6Ex"
   },
   "source": [
    "<div align=center>\n",
    "\t\t\n",
    "<font size=5>\n",
    "In the Name of God\n",
    "<font/>\n",
    "<p></p>\n",
    "<br/>\n",
    "<br/>\n",
    "<font color=#FF7500>\n",
    "Sharif University of Technology - Departmenet of Computer Engineering\n",
    "</font>\n",
    "<p></p>\n",
    "<font color=blue>\n",
    "Artifical Intelligence - Dr. Mahdieh Soleimani\n",
    "</font>\n",
    "<br/>\n",
    "<br/>\n",
    "Fall 2022\n",
    "\n",
    "<hr/>\n",
    "<font color=red>\n",
    "Reinforcment Learning Practical Assignment\n",
    "</font>\n",
    "</div>\n",
    "\n",
    "<ul>\n",
    "  <li>Some cell's outputs have not been deleted. you can use these to make sure your implementation is correct.</li>\n",
    "</ul>"
   ]
  },
  {
   "cell_type": "markdown",
   "metadata": {
    "id": "rgA9_usLx6Ey"
   },
   "source": [
    "In this notebook you will use the [openai gym](https://www.gymlibrary.dev/) library to train agents in two different reinforcment learning environments. the first environment is a very simple grid-world with discrete states. The second environment however, has continous states.  \n",
    "make sure to upload your model performance video alongside this notebook. We suggest running this notebook on google colab so that you wont face any package errors."
   ]
  },
  {
   "cell_type": "markdown",
   "metadata": {
    "id": "4uzpGHXRx6Ey"
   },
   "source": [
    "we will first install the necessary packages."
   ]
  },
  {
   "cell_type": "code",
   "execution_count": null,
   "metadata": {
    "colab": {
     "base_uri": "https://localhost:8080/"
    },
    "id": "XO-JzYynx6Ez",
    "outputId": "9c372df2-9b79-4174-da60-abced47983bc"
   },
   "outputs": [
    {
     "name": "stdout",
     "output_type": "stream",
     "text": [
      "Looking in indexes: https://pypi.org/simple, https://us-python.pkg.dev/colab-wheels/public/simple/\n",
      "Collecting gym==0.26\n",
      "  Downloading gym-0.26.0.tar.gz (710 kB)\n",
      "\u001b[K     |████████████████████████████████| 710 kB 5.0 MB/s \n",
      "\u001b[?25h  Installing build dependencies ... \u001b[?25l\u001b[?25hdone\n",
      "  Getting requirements to build wheel ... \u001b[?25l\u001b[?25hdone\n",
      "    Preparing wheel metadata ... \u001b[?25l\u001b[?25hdone\n",
      "Requirement already satisfied: gym-notices>=0.0.4 in /usr/local/lib/python3.8/dist-packages (from gym==0.26) (0.0.8)\n",
      "Requirement already satisfied: importlib-metadata>=4.8.0 in /usr/local/lib/python3.8/dist-packages (from gym==0.26) (4.13.0)\n",
      "Requirement already satisfied: cloudpickle>=1.2.0 in /usr/local/lib/python3.8/dist-packages (from gym==0.26) (1.5.0)\n",
      "Requirement already satisfied: numpy>=1.18.0 in /usr/local/lib/python3.8/dist-packages (from gym==0.26) (1.21.6)\n",
      "Requirement already satisfied: zipp>=0.5 in /usr/local/lib/python3.8/dist-packages (from importlib-metadata>=4.8.0->gym==0.26) (3.11.0)\n",
      "Building wheels for collected packages: gym\n",
      "  Building wheel for gym (PEP 517) ... \u001b[?25l\u001b[?25hdone\n",
      "  Created wheel for gym: filename=gym-0.26.0-py3-none-any.whl size=826304 sha256=2cd814a96d414af62e5d160442895029ceaafac04b3d07a7dd8531f0424cf322\n",
      "  Stored in directory: /root/.cache/pip/wheels/f1/f2/92/63d51de23bd3ef89d87af5663ef0a1b04781ccb9757b6f98d4\n",
      "Successfully built gym\n",
      "Installing collected packages: gym\n",
      "  Attempting uninstall: gym\n",
      "    Found existing installation: gym 0.25.2\n",
      "    Uninstalling gym-0.25.2:\n",
      "      Successfully uninstalled gym-0.25.2\n",
      "Successfully installed gym-0.26.0\n",
      "Looking in indexes: https://pypi.org/simple, https://us-python.pkg.dev/colab-wheels/public/simple/\n",
      "Requirement already satisfied: imageio in /usr/local/lib/python3.8/dist-packages (2.9.0)\n",
      "Collecting imageio_ffmpeg\n",
      "  Downloading imageio_ffmpeg-0.4.7-py3-none-manylinux2010_x86_64.whl (26.9 MB)\n",
      "\u001b[K     |████████████████████████████████| 26.9 MB 2.5 MB/s \n",
      "\u001b[?25hRequirement already satisfied: pillow in /usr/local/lib/python3.8/dist-packages (from imageio) (7.1.2)\n",
      "Requirement already satisfied: numpy in /usr/local/lib/python3.8/dist-packages (from imageio) (1.21.6)\n",
      "Installing collected packages: imageio-ffmpeg\n",
      "Successfully installed imageio-ffmpeg-0.4.7\n",
      "Looking in indexes: https://pypi.org/simple, https://us-python.pkg.dev/colab-wheels/public/simple/\n",
      "Collecting pygame\n",
      "  Downloading pygame-2.1.2-cp38-cp38-manylinux_2_17_x86_64.manylinux2014_x86_64.whl (21.8 MB)\n",
      "\u001b[K     |████████████████████████████████| 21.8 MB 92.8 MB/s \n",
      "\u001b[?25hInstalling collected packages: pygame\n",
      "Successfully installed pygame-2.1.2\n",
      "Looking in indexes: https://pypi.org/simple, https://us-python.pkg.dev/colab-wheels/public/simple/\n",
      "Collecting pyglet==1.5.1\n",
      "  Downloading pyglet-1.5.1-py2.py3-none-any.whl (1.0 MB)\n",
      "\u001b[K     |████████████████████████████████| 1.0 MB 4.9 MB/s \n",
      "\u001b[?25hInstalling collected packages: pyglet\n",
      "Successfully installed pyglet-1.5.1\n",
      "Reading package lists... Done\n",
      "Building dependency tree       \n",
      "Reading state information... Done\n",
      "The following package was automatically installed and is no longer required:\n",
      "  libnvidia-common-460\n",
      "Use 'apt autoremove' to remove it.\n",
      "The following additional packages will be installed:\n",
      "  freeglut3\n",
      "Suggested packages:\n",
      "  libgle3\n",
      "The following NEW packages will be installed:\n",
      "  freeglut3 python-opengl\n",
      "0 upgraded, 2 newly installed, 0 to remove and 20 not upgraded.\n",
      "Need to get 570 kB of archives.\n",
      "After this operation, 5,733 kB of additional disk space will be used.\n",
      "Get:1 http://archive.ubuntu.com/ubuntu bionic/universe amd64 freeglut3 amd64 2.8.1-3 [73.6 kB]\n",
      "Get:2 http://archive.ubuntu.com/ubuntu bionic/universe amd64 python-opengl all 3.1.0+dfsg-1 [496 kB]\n",
      "Fetched 570 kB in 0s (1,973 kB/s)\n",
      "Selecting previously unselected package freeglut3:amd64.\n",
      "(Reading database ... 124013 files and directories currently installed.)\n",
      "Preparing to unpack .../freeglut3_2.8.1-3_amd64.deb ...\n",
      "Unpacking freeglut3:amd64 (2.8.1-3) ...\n",
      "Selecting previously unselected package python-opengl.\n",
      "Preparing to unpack .../python-opengl_3.1.0+dfsg-1_all.deb ...\n",
      "Unpacking python-opengl (3.1.0+dfsg-1) ...\n",
      "Setting up freeglut3:amd64 (2.8.1-3) ...\n",
      "Setting up python-opengl (3.1.0+dfsg-1) ...\n",
      "Processing triggers for libc-bin (2.27-3ubuntu1.6) ...\n",
      "Reading package lists... Done\n",
      "Building dependency tree       \n",
      "Reading state information... Done\n",
      "ffmpeg is already the newest version (7:3.4.11-0ubuntu0.1).\n",
      "The following package was automatically installed and is no longer required:\n",
      "  libnvidia-common-460\n",
      "Use 'apt autoremove' to remove it.\n",
      "0 upgraded, 0 newly installed, 0 to remove and 20 not upgraded.\n",
      "Reading package lists... Done\n",
      "Building dependency tree       \n",
      "Reading state information... Done\n",
      "The following package was automatically installed and is no longer required:\n",
      "  libnvidia-common-460\n",
      "Use 'apt autoremove' to remove it.\n",
      "The following NEW packages will be installed:\n",
      "  xvfb\n",
      "0 upgraded, 1 newly installed, 0 to remove and 20 not upgraded.\n",
      "Need to get 785 kB of archives.\n",
      "After this operation, 2,271 kB of additional disk space will be used.\n",
      "Get:1 http://archive.ubuntu.com/ubuntu bionic-updates/universe amd64 xvfb amd64 2:1.19.6-1ubuntu4.12 [785 kB]\n",
      "Fetched 785 kB in 0s (3,351 kB/s)\n",
      "Selecting previously unselected package xvfb.\n",
      "(Reading database ... 126373 files and directories currently installed.)\n",
      "Preparing to unpack .../xvfb_2%3a1.19.6-1ubuntu4.12_amd64.deb ...\n",
      "Unpacking xvfb (2:1.19.6-1ubuntu4.12) ...\n",
      "Setting up xvfb (2:1.19.6-1ubuntu4.12) ...\n",
      "Processing triggers for man-db (2.8.3-2ubuntu0.1) ...\n",
      "Looking in indexes: https://pypi.org/simple, https://us-python.pkg.dev/colab-wheels/public/simple/\n",
      "Collecting pyvirtualdisplay\n",
      "  Downloading PyVirtualDisplay-3.0-py3-none-any.whl (15 kB)\n",
      "Installing collected packages: pyvirtualdisplay\n",
      "Successfully installed pyvirtualdisplay-3.0\n"
     ]
    }
   ],
   "source": [
    "!pip install gym==0.26\n",
    "!pip install imageio imageio_ffmpeg\n",
    "!pip install pygame\n",
    "!pip install pyglet==1.5.1 \n",
    "!apt install python-opengl\n",
    "!apt install ffmpeg\n",
    "!apt install xvfb\n",
    "!pip3 install pyvirtualdisplay"
   ]
  },
  {
   "cell_type": "markdown",
   "metadata": {
    "id": "vjYtp6cyyXi-"
   },
   "source": [
    "the functions below will be used to make a video of the model performance. It will start the environment and choose the best action based on the given Qtable."
   ]
  },
  {
   "cell_type": "code",
   "execution_count": 145,
   "metadata": {
    "id": "-uB9baAkykMs"
   },
   "outputs": [],
   "source": [
    "from IPython.display import HTML\n",
    "from base64 import b64encode\n",
    "import imageio\n",
    "\n",
    "## comment this part if your not using google colab\n",
    "from pyvirtualdisplay import Display\n",
    "virtual_display = Display(visible=0, size=(1400, 900))\n",
    "virtual_display.start()\n",
    "######################\n",
    "\n",
    "def record_video_frozen_lake_env(env, Qtable, out_directory, fps=1, random_action=False):\n",
    "  images = []  \n",
    "  done = False\n",
    "  state, info = env.reset(seed=random.randint(0,500))\n",
    "  img = env.render()\n",
    "  images.append(img)\n",
    "  while not done:\n",
    "    # Take the action (index) that have the maximum expected future reward given that state\n",
    "    action = np.random.randint(4)  if random_action else np.argmax(Qtable[state][:])\n",
    "    state, reward, done, truncated, info = env.step(action)\n",
    "    img = env.render()\n",
    "    images.append(img)\n",
    "  imageio.mimsave(out_directory, [np.array(img) for i, img in enumerate(images)], fps=fps)\n",
    "\n",
    "def show_video(video_path, video_width = 600):\n",
    "  video_file = open(video_path, \"r+b\").read()\n",
    "  video_url = f\"data:video/mp4;base64,{b64encode(video_file).decode()}\"\n",
    "  return HTML(f\"\"\"<video width={video_width} controls><source src=\"{video_url}\"></video>\"\"\")"
   ]
  },
  {
   "cell_type": "markdown",
   "metadata": {
    "id": "281QULrBtRtK"
   },
   "source": [
    "## Part I: FrozenLake Environment (35 + 10 Points)"
   ]
  },
  {
   "cell_type": "code",
   "execution_count": 146,
   "metadata": {
    "id": "k2zC-9XIoYEL"
   },
   "outputs": [],
   "source": [
    "import numpy as np\n",
    "import gym\n",
    "import random\n",
    "from tqdm.notebook import tqdm"
   ]
  },
  {
   "cell_type": "markdown",
   "metadata": {
    "id": "clVAINP0xO17"
   },
   "source": [
    "In this exercise, we want to solve the FrozenLake environment. It is a simple grid-world environment where we have to reach a goal state while avoiding holes.  \n",
    "You can read more about this environment [here](https://www.gymlibrary.dev/environments/toy_text/frozen_lake/)"
   ]
  },
  {
   "cell_type": "markdown",
   "metadata": {
    "id": "YpWqhWmdy0rp"
   },
   "source": [
    "**[Question 1 (1 Points)]**  \n",
    "Create a <u>slippery</u> FrozenLake environment of size <u>4x4</u>"
   ]
  },
  {
   "cell_type": "code",
   "execution_count": 147,
   "metadata": {
    "id": "VcYInB5gzszF"
   },
   "outputs": [],
   "source": [
    "env = gym.make(\"FrozenLake-v1\", map_name=\"4x4\", is_slippery=True, render_mode='rgb_array')"
   ]
  },
  {
   "cell_type": "markdown",
   "metadata": {
    "id": "EfnH3pYryxwf"
   },
   "source": [
    "Let's run a random policy in this environement to get a better understanding of it."
   ]
  },
  {
   "cell_type": "code",
   "execution_count": 148,
   "metadata": {
    "colab": {
     "base_uri": "https://localhost:8080/",
     "height": 622
    },
    "id": "dzYhV3GSyxGq",
    "outputId": "423b4891-eb7a-4f57-e1ff-7854e66b2468"
   },
   "outputs": [
    {
     "data": {
      "text/html": [
       "<video width=600 controls><source src=\"data:video/mp4;base64,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\"></video>"
      ],
      "text/plain": [
       "<IPython.core.display.HTML object>"
      ]
     },
     "execution_count": 148,
     "metadata": {},
     "output_type": "execute_result"
    }
   ],
   "source": [
    "record_video_frozen_lake_env(env, None, 'frozenlake_random.mp4', fps=1, random_action=True)\n",
    "show_video('frozenlake_random.mp4', video_width = 600)"
   ]
  },
  {
   "cell_type": "markdown",
   "metadata": {
    "id": "wze5Ukspx1G0"
   },
   "source": [
    "**[Question 2 (1 Points)]**  \n",
    "Briefly describe the state space, action space, and reward function of this environment.\n",
    "\n",
    "**Answer:**  \n",
    "state space: 16 tiles as states(current_row * nrows + current_col). \n",
    "\n",
    "action space: 4 possible actions 'Left', 'Right', 'Up', and 'Down'. \n",
    "\n",
    "reward function: \n",
    "     Reach goal(G): +1\n",
    "     .Reach hole(H): 0\n",
    "     .Reach frozen(F): 0\n"
   ]
  },
  {
   "cell_type": "markdown",
   "metadata": {
    "id": "JmelLdEG0Pjr"
   },
   "source": [
    "**[Question 3 (2 Points)]**  \n",
    "Complete the code for `initialize_q_table` function. It should create a Q-table of size (state_space, action_space) and initializes it. You are free to use whichever initialization you want (a good starting point is to initialize it with all zeros)"
   ]
  },
  {
   "cell_type": "code",
   "execution_count": 149,
   "metadata": {
    "id": "_BKgfgqI0XWW"
   },
   "outputs": [],
   "source": [
    "def initialize_q_table(state_space, action_space):\n",
    "  Qtable = np.zeros((state_space, action_space))\n",
    "  return Qtable"
   ]
  },
  {
   "cell_type": "code",
   "execution_count": 150,
   "metadata": {
    "id": "lWeutJTb0qUX"
   },
   "outputs": [],
   "source": [
    "Qtable = initialize_q_table(env.observation_space.n, env.action_space.n)"
   ]
  },
  {
   "cell_type": "markdown",
   "metadata": {
    "id": "9NHYE1Q2rMSU"
   },
   "source": [
    "**[Question 4 (2 Points)]**  \n",
    "Complete the code for `epsilon_greedy_policy` function. It should select the best action according to the current Q-function with probability $1-\\varepsilon$ and select a random action with probability $\\varepsilon$."
   ]
  },
  {
   "cell_type": "code",
   "execution_count": 151,
   "metadata": {
    "id": "YbOjqoTRrAqw"
   },
   "outputs": [],
   "source": [
    "def epsilon_greedy_policy(Qtable, state, epsilon):\n",
    "  if np.random.random() <= epsilon:\n",
    "    action = np.random.randint(4)\n",
    "  else:\n",
    "    action = np.argmax(Qtable[state, :])\n",
    "  return action"
   ]
  },
  {
   "cell_type": "markdown",
   "metadata": {
    "id": "Cgdt3n_ftE9E"
   },
   "source": [
    "**[Question 5 (4 Points)]**  \n",
    "You need to choose appropriate hyperparameters for the agent to learn.\n",
    "\n",
    "In particular, you must find a suitable learning rate and exploration parameters. To facilitate exploration, a common practice is to start with a high exploration rate ($\\varepsilon$) and gradually decrease it as the agent gets better. To implement this, you need to specify the starting exploration rate (`max_epsilon`), the final exploration rate (`min_epsilon`) and a decay rate which reduces the exploration rate after each update (see the `train` function below)."
   ]
  },
  {
   "cell_type": "code",
   "execution_count": 152,
   "metadata": {
    "id": "SrbwYgKZtFWc"
   },
   "outputs": [],
   "source": [
    "# Training parameters\n",
    "n_training_episodes = 50_000  # Total training episodes\n",
    "n_eval_episodes = 10_000\n",
    "learning_rate = 0.1        # Learning rate\n",
    "\n",
    "# Environment parameters\n",
    "max_steps = 99               # Max steps per episode\n",
    "gamma = 0.95                 # Discounting rate\n",
    "\n",
    "# Exploration parameters\n",
    "max_epsilon = 1           # Exploration probability at start\n",
    "min_epsilon = 0.01           # Minimum exploration probability \n",
    "decay_rate = 0.01            # Exponential decay rate for exploration prob\n",
    "current_epsilon = 0.0"
   ]
  },
  {
   "cell_type": "markdown",
   "metadata": {
    "id": "y2hySBMAvmPk"
   },
   "source": [
    "**[Question 6 (10 Points)]**  \n",
    "Complete the `train` function which updates `Qtable` using the Q-learning update rule."
   ]
  },
  {
   "cell_type": "code",
   "execution_count": 153,
   "metadata": {
    "id": "FCqTlP-7vnxs"
   },
   "outputs": [],
   "source": [
    "def train(n_training_episodes, min_epsilon, max_epsilon, decay_rate, env, max_steps, Qtable):\n",
    "  rewards = []\n",
    "  for episode in tqdm(range(n_training_episodes)):\n",
    "    # Adjust epsilon\n",
    "    epsilon = min_epsilon + (max_epsilon - min_epsilon)*np.exp(-decay_rate*episode)\n",
    "    # Reset the environment\n",
    "    state, info = env.reset()\n",
    "    step = 0\n",
    "    done = False\n",
    "    sum_rewards = 0\n",
    "    # repeat\n",
    "    for step in range(max_steps):\n",
    "      # You must:\n",
    "      # Take action A_t and observe R_{t+1}, S_{t+1}\n",
    "      # Update the Qtable with (S_t, A_t, R_{t+1}, S_{t+1})\n",
    "      # Be careful about episode termination and truncation\n",
    "      action = epsilon_greedy_policy(Qtable, state, epsilon)\n",
    "      info = env.step(action)\n",
    "      new_state = info[0]\n",
    "      reward = info[1]\n",
    "      done = info[2]\n",
    "      Qtable[state, action] = Qtable[state, action] + learning_rate * (reward + gamma * np.max(Qtable[new_state]) - Qtable[state, action])\n",
    "      state = new_state\n",
    "      sum_rewards += reward\n",
    "      if done:\n",
    "        break\n",
    "    epsilon = min_epsilon + (max_epsilon - min_epsilon) * np.exp(-decay_rate * (episode + 1))\n",
    "    rewards.append(sum_rewards)\n",
    "  current_epsilon = epsilon  \n",
    "  return Qtable"
   ]
  },
  {
   "cell_type": "markdown",
   "metadata": {
    "id": "C6tXzxJ0Yn0A"
   },
   "source": []
  },
  {
   "cell_type": "markdown",
   "metadata": {
    "id": "_sFV4Kn6zO8G"
   },
   "source": [
    "We are now ready to train our agent."
   ]
  },
  {
   "cell_type": "code",
   "execution_count": null,
   "metadata": {
    "colab": {
     "base_uri": "https://localhost:8080/",
     "height": 49,
     "referenced_widgets": [
      "56e2c73e8f9e4e9f9fdb6df3b532aefa",
      "0ad087ef352c4cfd81e0b6b7463d6609",
      "4dd85ade623145658c092431979df47a",
      "69c8e908cf034d688ac89458f60fc2d1",
      "bb2dad2bc8d14b7babb122ecd7b97eac",
      "969e41f53f764daf8a043e6737e4956f",
      "390429d5743a4923b046fc3d5cdfe2b3",
      "9298a43fc29242c7bbe6f3f459ac4ba5",
      "a0a2b2265b6f47d0b18ad62f7f78de7e",
      "bc45a250fc0043c3bfdee0f7d289922b",
      "2b1be4961fee4a04909dc8519403622b"
     ]
    },
    "id": "jduZzTMvzLBx",
    "outputId": "02164dff-f8d8-41e9-a8bf-a7b2eb877d7f"
   },
   "outputs": [
    {
     "data": {
      "application/vnd.jupyter.widget-view+json": {
       "model_id": "56e2c73e8f9e4e9f9fdb6df3b532aefa",
       "version_major": 2,
       "version_minor": 0
      },
      "text/plain": [
       "  0%|          | 0/50000 [00:00<?, ?it/s]"
      ]
     },
     "metadata": {},
     "output_type": "display_data"
    }
   ],
   "source": [
    "Qtable_trained = train(n_training_episodes, min_epsilon, max_epsilon, decay_rate, env, max_steps, Qtable)"
   ]
  },
  {
   "cell_type": "markdown",
   "metadata": {
    "id": "OUlpdnRx75g9"
   },
   "source": [
    "Now, we will evaluate our agent. You don't need to write any code, just run the following cells as they are."
   ]
  },
  {
   "cell_type": "code",
   "execution_count": null,
   "metadata": {
    "id": "BbQRzYEb8C3u"
   },
   "outputs": [],
   "source": [
    "def evaluate_agent(env, max_steps, n_eval_episodes, Q):\n",
    "  \"\"\"\n",
    "  Evaluate the agent for ``n_eval_episodes`` episodes and returns average reward and std of reward.\n",
    "  :param env: The evaluation environment\n",
    "  :param n_eval_episodes: Number of episode to evaluate the agent\n",
    "  :param Q: The Q-table\n",
    "  \"\"\"\n",
    "  episode_rewards = []\n",
    "  for episode in tqdm(range(n_eval_episodes)):\n",
    "    state, info = env.reset()\n",
    "    step = 0\n",
    "    terminated = False\n",
    "    total_rewards_ep = 0\n",
    "    \n",
    "    for step in range(max_steps):\n",
    "      action = np.argmax(Q[state][:])\n",
    "      new_state, reward, terminated, truncated, info = env.step(action)\n",
    "      total_rewards_ep += reward\n",
    "        \n",
    "      if terminated:\n",
    "        break\n",
    "      state = new_state\n",
    "    episode_rewards.append(total_rewards_ep)\n",
    "  mean_reward = np.mean(episode_rewards)\n",
    "  std_reward = np.std(episode_rewards)\n",
    "\n",
    "  return mean_reward, std_reward"
   ]
  },
  {
   "cell_type": "code",
   "execution_count": null,
   "metadata": {
    "colab": {
     "base_uri": "https://localhost:8080/",
     "height": 66,
     "referenced_widgets": [
      "844acd6b86b64f608e16ac8f26c3bdef",
      "366db5defbaa4765b0f8dd360e7a7347",
      "1f71e5902cc549109dc2fa6aab03ce45",
      "f69542d896a341a8bd1c9486364d8b73",
      "cab54a6c683849579644a4a78e994390",
      "bd6bf1fb2f8c40479e1ad9c20dc50b97",
      "6bc9477d1ab048b5bfc52db2b5baeefd",
      "2321eaab9b784d5b91e2542ce57f9cc7",
      "d480f99815f14dbbbc54e384bf473608",
      "ce1a091b20254d65a52094cea70300f2",
      "a61a2fe10af342c79d1d6ba072855894"
     ]
    },
    "id": "61-viEdx8vbC",
    "outputId": "28810dca-ee37-4c47-a10c-f80e533e61a5"
   },
   "outputs": [
    {
     "data": {
      "application/vnd.jupyter.widget-view+json": {
       "model_id": "844acd6b86b64f608e16ac8f26c3bdef",
       "version_major": 2,
       "version_minor": 0
      },
      "text/plain": [
       "  0%|          | 0/10000 [00:00<?, ?it/s]"
      ]
     },
     "metadata": {},
     "output_type": "display_data"
    },
    {
     "name": "stdout",
     "output_type": "stream",
     "text": [
      "Mean_reward=0.73 +/- 0.45\n"
     ]
    }
   ],
   "source": [
    "mean_reward, std_reward = evaluate_agent(env, max_steps, n_eval_episodes, Qtable_trained)\n",
    "print(f\"Mean_reward={mean_reward:.2f} +/- {std_reward:.2f}\") # should be around 0.65"
   ]
  },
  {
   "cell_type": "markdown",
   "metadata": {
    "id": "8Oj-u9bi7Vct"
   },
   "source": [
    "Now let's see how well our model is doing."
   ]
  },
  {
   "cell_type": "code",
   "execution_count": null,
   "metadata": {
    "colab": {
     "base_uri": "https://localhost:8080/",
     "height": 622
    },
    "id": "NqP2b15M7U6Y",
    "outputId": "ac7700ee-4321-4f5e-f991-8ab1a6ae2f13",
    "scrolled": true
   },
   "outputs": [
    {
     "data": {
      "text/html": [
       "<video width=600 controls><source src=\"data:video/mp4;base64,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\"></video>"
      ],
      "text/plain": [
       "<IPython.core.display.HTML object>"
      ]
     },
     "execution_count": 55,
     "metadata": {},
     "output_type": "execute_result"
    }
   ],
   "source": [
    "record_video_frozen_lake_env(env, Qtable_trained, 'frozenlake_trained.mp4', fps=1)\n",
    "show_video('frozenlake_trained.mp4', video_width = 600)"
   ]
  },
  {
   "cell_type": "markdown",
   "metadata": {
    "id": "nWvKPz_0zlhR"
   },
   "source": [
    "Next, we will take a look at the Q-function that was learned."
   ]
  },
  {
   "cell_type": "code",
   "execution_count": null,
   "metadata": {
    "colab": {
     "base_uri": "https://localhost:8080/"
    },
    "id": "X8yC8f4Mzc-h",
    "outputId": "a9bed33c-e5d4-4082-cde2-04db2f85564a"
   },
   "outputs": [
    {
     "name": "stdout",
     "output_type": "stream",
     "text": [
      "[[0.19051201 0.15144325 0.16436651 0.16028029]\n",
      " [0.05470778 0.0838057  0.09122568 0.17921634]\n",
      " [0.16923369 0.09124934 0.08581535 0.08589674]\n",
      " [0.07048271 0.07103991 0.06970598 0.08055696]\n",
      " [0.2117109  0.18997573 0.14209041 0.12233322]\n",
      " [0.         0.         0.         0.        ]\n",
      " [0.06523151 0.06580946 0.22287718 0.05392891]\n",
      " [0.         0.         0.         0.        ]\n",
      " [0.18166351 0.15955822 0.18650292 0.2703529 ]\n",
      " [0.30674816 0.38372437 0.24821351 0.14419867]\n",
      " [0.31593684 0.19767626 0.19920494 0.18437323]\n",
      " [0.         0.         0.         0.        ]\n",
      " [0.         0.         0.         0.        ]\n",
      " [0.25128838 0.33804343 0.51488505 0.28952286]\n",
      " [0.47622579 0.787432   0.49283249 0.48316578]\n",
      " [0.         0.         0.         0.        ]]\n"
     ]
    }
   ],
   "source": [
    "print(Qtable_trained)"
   ]
  },
  {
   "cell_type": "markdown",
   "metadata": {
    "id": "W_uLOGVo0mCv"
   },
   "source": [
    "**[Question 7 (5 Points)]**  \n",
    "Assume that `Qtable_trained` is the correct Q-function for the final epsilon-greedy policy that was used in training. What is the value function that corresponds to this policy? Write down the relation between $V_\\pi$ and $Q_\\pi$ and use it to complete the following code block."
   ]
  },
  {
   "cell_type": "markdown",
   "metadata": {
    "id": "QV1yNSlX4Xhn"
   },
   "source": [
    "**Answer:**\n",
    "$$V_\\pi (s) = Q_\\pi (s,\\pi(s)) $$"
   ]
  },
  {
   "cell_type": "code",
   "execution_count": null,
   "metadata": {
    "id": "tgvG3JPb4q4o"
   },
   "outputs": [],
   "source": [
    "Vtable_trained = [Qtable_trained[i,epsilon_greedy_policy(Qtable_trained, i, current_epsilon)] for i in range(len(Qtable_trained))]"
   ]
  },
  {
   "cell_type": "markdown",
   "metadata": {
    "id": "hrBSciQw4wBD"
   },
   "source": [
    "Take a look at the value function"
   ]
  },
  {
   "cell_type": "code",
   "execution_count": null,
   "metadata": {
    "colab": {
     "base_uri": "https://localhost:8080/"
    },
    "id": "ZZ7aWMbOpAwZ",
    "outputId": "baf66448-b12f-475a-f675-5c3d98b691e2"
   },
   "outputs": [
    {
     "name": "stdout",
     "output_type": "stream",
     "text": [
      "[0.19051201270294177, 0.1792163372360861, 0.1692336856673049, 0.0805569573783276, 0.21171090127847703, 0.0, 0.2228771842780802, 0.0, 0.2703529002393518, 0.38372437040937835, 0.3159368365432915, 0.0, 0.0, 0.5148850511226493, 0.7874320014894183, 0.0]\n"
     ]
    }
   ],
   "source": [
    "print(Vtable_trained)"
   ]
  },
  {
   "cell_type": "markdown",
   "metadata": {
    "id": "JI8bzC7azyAq"
   },
   "source": [
    "**[Question 8 (5 Points)]**  \n",
    "Write a function to generate a visualization for the value function using a heatmap. In a few words, explain what you see."
   ]
  },
  {
   "cell_type": "code",
   "execution_count": null,
   "metadata": {
    "id": "LUnArCcV0VMp"
   },
   "outputs": [],
   "source": [
    "import seaborn as sns\n",
    "import pandas as pd\n",
    "def visualize(Vtable):\n",
    "  df = pd.DataFrame(np.array(Vtable_trained).reshape(4,4))\n",
    "  sns.heatmap(df, annot=True, cmap = 'RdPu')"
   ]
  },
  {
   "cell_type": "code",
   "execution_count": null,
   "metadata": {
    "colab": {
     "base_uri": "https://localhost:8080/",
     "height": 265
    },
    "id": "N51kKbFFpGFh",
    "outputId": "6b6d37cd-7d6f-440b-d13a-aed71eca529a"
   },
   "outputs": [
    {
     "data": {
      "image/png": "[encoded data removed]",
      "text/plain": [
       "<Figure size 432x288 with 2 Axes>"
      ]
     },
     "metadata": {},
     "output_type": "display_data"
    }
   ],
   "source": [
    "visualize(Vtable_trained)"
   ]
  },
  {
   "cell_type": "markdown",
   "metadata": {
    "id": "HyNca-10ruQm"
   },
   "source": [
    "**[Question 9 (5 Points)]**  \n",
    "Can we use a pure greedy policy for Q-learning? Explain."
   ]
  },
  {
   "cell_type": "markdown",
   "metadata": {
    "id": "JqX18Ic-siGm"
   },
   "source": [
    "**Answer:**\n",
    "\n",
    "No. Because there won't be any exploration and therefore no learning would happen and would only converge to the optimal policy."
   ]
  },
  {
   "cell_type": "markdown",
   "metadata": {
    "id": "EVUwDSzC_YP8"
   },
   "source": [
    "**[Bonus Question (10 Points)]**  \n",
    "Think about the role of the discount factor in this environment and experiment.  \n",
    "1. Explain why it is not the best idea to set $\\gamma = 1$ for a navigation task. You might find it easier to reason about a deterministic (i.e., non-slippery) environment. (5 Points)\n"
   ]
  },
  {
   "cell_type": "markdown",
   "metadata": {
    "id": "GttKYjfu_cvg"
   },
   "source": [
    "**Answer:**\n",
    "1. because by not being threatened to lose something, the model would just keep moving around forever as long as it's not losing. Therefore, the computation cost and running time would be extremely high because the model is not urgently searching for the goal since it knows that no matter when it reaches the goal, the reward is the same.\n"
   ]
  }
 ],
 "metadata": {
  "colab": {
   "provenance": []
  },
  "kernelspec": {
   "display_name": "Python 3 (ipykernel)",
   "language": "python",
   "name": "python3"
  },
  "language_info": {
   "codemirror_mode": {
    "name": "ipython",
    "version": 3
   },
   "file_extension": ".py",
   "mimetype": "text/x-python",
   "name": "python",
   "nbconvert_exporter": "python",
   "pygments_lexer": "ipython3",
   "version": "3.10.11"
  },
  "widgets": {
   "application/vnd.jupyter.widget-state+json": {
    "0ad087ef352c4cfd81e0b6b7463d6609": {
     "model_module": "@jupyter-widgets/controls",
     "model_module_version": "1.5.0",
     "model_name": "HTMLModel",
     "state": {
      "_dom_classes": [],
      "_model_module": "@jupyter-widgets/controls",
      "_model_module_version": "1.5.0",
      "_model_name": "HTMLModel",
      "_view_count": null,
      "_view_module": "@jupyter-widgets/controls",
      "_view_module_version": "1.5.0",
      "_view_name": "HTMLView",
      "description": "",
      "description_tooltip": null,
      "layout": "IPY_MODEL_969e41f53f764daf8a043e6737e4956f",
      "placeholder": "​",
      "style": "IPY_MODEL_390429d5743a4923b046fc3d5cdfe2b3",
      "value": "100%"
     }
    },
    "124dfc8723e74d8bba41dd9c63c409d6": {
     "model_module": "@jupyter-widgets/controls",
     "model_module_version": "1.5.0",
     "model_name": "HTMLModel",
     "state": {
      "_dom_classes": [],
      "_model_module": "@jupyter-widgets/controls",
      "_model_module_version": "1.5.0",
      "_model_name": "HTMLModel",
      "_view_count": null,
      "_view_module": "@jupyter-widgets/controls",
      "_view_module_version": "1.5.0",
      "_view_name": "HTMLView",
      "description": "",
      "description_tooltip": null,
      "layout": "IPY_MODEL_7c63e033bb3d47ffa683fb16729a96e9",
      "placeholder": "​",
      "style": "IPY_MODEL_429ade99152248adaddc6c711a11e94d",
      "value": " 20000/20000 [17:52&lt;00:00, 20.53it/s]"
     }
    },
    "135e0235cb884c5fbea3161a1112b710": {
     "model_module": "@jupyter-widgets/base",
     "model_module_version": "1.2.0",
     "model_name": "LayoutModel",
     "state": {
      "_model_module": "@jupyter-widgets/base",
      "_model_module_version": "1.2.0",
      "_model_name": "LayoutModel",
      "_view_count": null,
      "_view_module": "@jupyter-widgets/base",
      "_view_module_version": "1.2.0",
      "_view_name": "LayoutView",
      "align_content": null,
      "align_items": null,
      "align_self": null,
      "border": null,
      "bottom": null,
      "display": null,
      "flex": null,
      "flex_flow": null,
      "grid_area": null,
      "grid_auto_columns": null,
      "grid_auto_flow": null,
      "grid_auto_rows": null,
      "grid_column": null,
      "grid_gap": null,
      "grid_row": null,
      "grid_template_areas": null,
      "grid_template_columns": null,
      "grid_template_rows": null,
      "height": null,
      "justify_content": null,
      "justify_items": null,
      "left": null,
      "margin": null,
      "max_height": null,
      "max_width": null,
      "min_height": null,
      "min_width": null,
      "object_fit": null,
      "object_position": null,
      "order": null,
      "overflow": null,
      "overflow_x": null,
      "overflow_y": null,
      "padding": null,
      "right": null,
      "top": null,
      "visibility": null,
      "width": null
     }
    },
    "1f71e5902cc549109dc2fa6aab03ce45": {
     "model_module": "@jupyter-widgets/controls",
     "model_module_version": "1.5.0",
     "model_name": "FloatProgressModel",
     "state": {
      "_dom_classes": [],
      "_model_module": "@jupyter-widgets/controls",
      "_model_module_version": "1.5.0",
      "_model_name": "FloatProgressModel",
      "_view_count": null,
      "_view_module": "@jupyter-widgets/controls",
      "_view_module_version": "1.5.0",
      "_view_name": "ProgressView",
      "bar_style": "success",
      "description": "",
      "description_tooltip": null,
      "layout": "IPY_MODEL_2321eaab9b784d5b91e2542ce57f9cc7",
      "max": 10000,
      "min": 0,
      "orientation": "horizontal",
      "style": "IPY_MODEL_d480f99815f14dbbbc54e384bf473608",
      "value": 10000
     }
    },
    "2321eaab9b784d5b91e2542ce57f9cc7": {
     "model_module": "@jupyter-widgets/base",
     "model_module_version": "1.2.0",
     "model_name": "LayoutModel",
     "state": {
      "_model_module": "@jupyter-widgets/base",
      "_model_module_version": "1.2.0",
      "_model_name": "LayoutModel",
      "_view_count": null,
      "_view_module": "@jupyter-widgets/base",
      "_view_module_version": "1.2.0",
      "_view_name": "LayoutView",
      "align_content": null,
      "align_items": null,
      "align_self": null,
      "border": null,
      "bottom": null,
      "display": null,
      "flex": null,
      "flex_flow": null,
      "grid_area": null,
      "grid_auto_columns": null,
      "grid_auto_flow": null,
      "grid_auto_rows": null,
      "grid_column": null,
      "grid_gap": null,
      "grid_row": null,
      "grid_template_areas": null,
      "grid_template_columns": null,
      "grid_template_rows": null,
      "height": null,
      "justify_content": null,
      "justify_items": null,
      "left": null,
      "margin": null,
      "max_height": null,
      "max_width": null,
      "min_height": null,
      "min_width": null,
      "object_fit": null,
      "object_position": null,
      "order": null,
      "overflow": null,
      "overflow_x": null,
      "overflow_y": null,
      "padding": null,
      "right": null,
      "top": null,
      "visibility": null,
      "width": null
     }
    },
    "2522248968824553a07dd2e2f4c90647": {
     "model_module": "@jupyter-widgets/controls",
     "model_module_version": "1.5.0",
     "model_name": "HTMLModel",
     "state": {
      "_dom_classes": [],
      "_model_module": "@jupyter-widgets/controls",
      "_model_module_version": "1.5.0",
      "_model_name": "HTMLModel",
      "_view_count": null,
      "_view_module": "@jupyter-widgets/controls",
      "_view_module_version": "1.5.0",
      "_view_name": "HTMLView",
      "description": "",
      "description_tooltip": null,
      "layout": "IPY_MODEL_4469e125a00744a1b16ae43d80b8d7e4",
      "placeholder": "​",
      "style": "IPY_MODEL_8f65868ce135495cae543769eca6a3a2",
      "value": "100%"
     }
    },
    "2b1be4961fee4a04909dc8519403622b": {
     "model_module": "@jupyter-widgets/controls",
     "model_module_version": "1.5.0",
     "model_name": "DescriptionStyleModel",
     "state": {
      "_model_module": "@jupyter-widgets/controls",
      "_model_module_version": "1.5.0",
      "_model_name": "DescriptionStyleModel",
      "_view_count": null,
      "_view_module": "@jupyter-widgets/base",
      "_view_module_version": "1.2.0",
      "_view_name": "StyleView",
      "description_width": ""
     }
    },
    "2b78eead0e314008a13e05331c5cabb6": {
     "model_module": "@jupyter-widgets/controls",
     "model_module_version": "1.5.0",
     "model_name": "FloatProgressModel",
     "state": {
      "_dom_classes": [],
      "_model_module": "@jupyter-widgets/controls",
      "_model_module_version": "1.5.0",
      "_model_name": "FloatProgressModel",
      "_view_count": null,
      "_view_module": "@jupyter-widgets/controls",
      "_view_module_version": "1.5.0",
      "_view_name": "ProgressView",
      "bar_style": "success",
      "description": "",
      "description_tooltip": null,
      "layout": "IPY_MODEL_b5ced45eec5a486995791731473b5e4e",
      "max": 20000,
      "min": 0,
      "orientation": "horizontal",
      "style": "IPY_MODEL_71f8d45cf6764e8f9f6226d29a9af346",
      "value": 20000
     }
    },
    "366db5defbaa4765b0f8dd360e7a7347": {
     "model_module": "@jupyter-widgets/controls",
     "model_module_version": "1.5.0",
     "model_name": "HTMLModel",
     "state": {
      "_dom_classes": [],
      "_model_module": "@jupyter-widgets/controls",
      "_model_module_version": "1.5.0",
      "_model_name": "HTMLModel",
      "_view_count": null,
      "_view_module": "@jupyter-widgets/controls",
      "_view_module_version": "1.5.0",
      "_view_name": "HTMLView",
      "description": "",
      "description_tooltip": null,
      "layout": "IPY_MODEL_bd6bf1fb2f8c40479e1ad9c20dc50b97",
      "placeholder": "​",
      "style": "IPY_MODEL_6bc9477d1ab048b5bfc52db2b5baeefd",
      "value": "100%"
     }
    },
    "390429d5743a4923b046fc3d5cdfe2b3": {
     "model_module": "@jupyter-widgets/controls",
     "model_module_version": "1.5.0",
     "model_name": "DescriptionStyleModel",
     "state": {
      "_model_module": "@jupyter-widgets/controls",
      "_model_module_version": "1.5.0",
      "_model_name": "DescriptionStyleModel",
      "_view_count": null,
      "_view_module": "@jupyter-widgets/base",
      "_view_module_version": "1.2.0",
      "_view_name": "StyleView",
      "description_width": ""
     }
    },
    "429ade99152248adaddc6c711a11e94d": {
     "model_module": "@jupyter-widgets/controls",
     "model_module_version": "1.5.0",
     "model_name": "DescriptionStyleModel",
     "state": {
      "_model_module": "@jupyter-widgets/controls",
      "_model_module_version": "1.5.0",
      "_model_name": "DescriptionStyleModel",
      "_view_count": null,
      "_view_module": "@jupyter-widgets/base",
      "_view_module_version": "1.2.0",
      "_view_name": "StyleView",
      "description_width": ""
     }
    },
    "4469e125a00744a1b16ae43d80b8d7e4": {
     "model_module": "@jupyter-widgets/base",
     "model_module_version": "1.2.0",
     "model_name": "LayoutModel",
     "state": {
      "_model_module": "@jupyter-widgets/base",
      "_model_module_version": "1.2.0",
      "_model_name": "LayoutModel",
      "_view_count": null,
      "_view_module": "@jupyter-widgets/base",
      "_view_module_version": "1.2.0",
      "_view_name": "LayoutView",
      "align_content": null,
      "align_items": null,
      "align_self": null,
      "border": null,
      "bottom": null,
      "display": null,
      "flex": null,
      "flex_flow": null,
      "grid_area": null,
      "grid_auto_columns": null,
      "grid_auto_flow": null,
      "grid_auto_rows": null,
      "grid_column": null,
      "grid_gap": null,
      "grid_row": null,
      "grid_template_areas": null,
      "grid_template_columns": null,
      "grid_template_rows": null,
      "height": null,
      "justify_content": null,
      "justify_items": null,
      "left": null,
      "margin": null,
      "max_height": null,
      "max_width": null,
      "min_height": null,
      "min_width": null,
      "object_fit": null,
      "object_position": null,
      "order": null,
      "overflow": null,
      "overflow_x": null,
      "overflow_y": null,
      "padding": null,
      "right": null,
      "top": null,
      "visibility": null,
      "width": null
     }
    },
    "4dd85ade623145658c092431979df47a": {
     "model_module": "@jupyter-widgets/controls",
     "model_module_version": "1.5.0",
     "model_name": "FloatProgressModel",
     "state": {
      "_dom_classes": [],
      "_model_module": "@jupyter-widgets/controls",
      "_model_module_version": "1.5.0",
      "_model_name": "FloatProgressModel",
      "_view_count": null,
      "_view_module": "@jupyter-widgets/controls",
      "_view_module_version": "1.5.0",
      "_view_name": "ProgressView",
      "bar_style": "success",
      "description": "",
      "description_tooltip": null,
      "layout": "IPY_MODEL_9298a43fc29242c7bbe6f3f459ac4ba5",
      "max": 50000,
      "min": 0,
      "orientation": "horizontal",
      "style": "IPY_MODEL_a0a2b2265b6f47d0b18ad62f7f78de7e",
      "value": 50000
     }
    },
    "56e2c73e8f9e4e9f9fdb6df3b532aefa": {
     "model_module": "@jupyter-widgets/controls",
     "model_module_version": "1.5.0",
     "model_name": "HBoxModel",
     "state": {
      "_dom_classes": [],
      "_model_module": "@jupyter-widgets/controls",
      "_model_module_version": "1.5.0",
      "_model_name": "HBoxModel",
      "_view_count": null,
      "_view_module": "@jupyter-widgets/controls",
      "_view_module_version": "1.5.0",
      "_view_name": "HBoxView",
      "box_style": "",
      "children": [
       "IPY_MODEL_0ad087ef352c4cfd81e0b6b7463d6609",
       "IPY_MODEL_4dd85ade623145658c092431979df47a",
       "IPY_MODEL_69c8e908cf034d688ac89458f60fc2d1"
      ],
      "layout": "IPY_MODEL_bb2dad2bc8d14b7babb122ecd7b97eac"
     }
    },
    "5a5cb67125984104b7f43d0a005473a7": {
     "model_module": "@jupyter-widgets/controls",
     "model_module_version": "1.5.0",
     "model_name": "HBoxModel",
     "state": {
      "_dom_classes": [],
      "_model_module": "@jupyter-widgets/controls",
      "_model_module_version": "1.5.0",
      "_model_name": "HBoxModel",
      "_view_count": null,
      "_view_module": "@jupyter-widgets/controls",
      "_view_module_version": "1.5.0",
      "_view_name": "HBoxView",
      "box_style": "",
      "children": [
       "IPY_MODEL_2522248968824553a07dd2e2f4c90647",
       "IPY_MODEL_2b78eead0e314008a13e05331c5cabb6",
       "IPY_MODEL_124dfc8723e74d8bba41dd9c63c409d6"
      ],
      "layout": "IPY_MODEL_135e0235cb884c5fbea3161a1112b710"
     }
    },
    "69c8e908cf034d688ac89458f60fc2d1": {
     "model_module": "@jupyter-widgets/controls",
     "model_module_version": "1.5.0",
     "model_name": "HTMLModel",
     "state": {
      "_dom_classes": [],
      "_model_module": "@jupyter-widgets/controls",
      "_model_module_version": "1.5.0",
      "_model_name": "HTMLModel",
      "_view_count": null,
      "_view_module": "@jupyter-widgets/controls",
      "_view_module_version": "1.5.0",
      "_view_name": "HTMLView",
      "description": "",
      "description_tooltip": null,
      "layout": "IPY_MODEL_bc45a250fc0043c3bfdee0f7d289922b",
      "placeholder": "​",
      "style": "IPY_MODEL_2b1be4961fee4a04909dc8519403622b",
      "value": " 50000/50000 [01:08&lt;00:00, 762.28it/s]"
     }
    },
    "6bc9477d1ab048b5bfc52db2b5baeefd": {
     "model_module": "@jupyter-widgets/controls",
     "model_module_version": "1.5.0",
     "model_name": "DescriptionStyleModel",
     "state": {
      "_model_module": "@jupyter-widgets/controls",
      "_model_module_version": "1.5.0",
      "_model_name": "DescriptionStyleModel",
      "_view_count": null,
      "_view_module": "@jupyter-widgets/base",
      "_view_module_version": "1.2.0",
      "_view_name": "StyleView",
      "description_width": ""
     }
    },
    "71f8d45cf6764e8f9f6226d29a9af346": {
     "model_module": "@jupyter-widgets/controls",
     "model_module_version": "1.5.0",
     "model_name": "ProgressStyleModel",
     "state": {
      "_model_module": "@jupyter-widgets/controls",
      "_model_module_version": "1.5.0",
      "_model_name": "ProgressStyleModel",
      "_view_count": null,
      "_view_module": "@jupyter-widgets/base",
      "_view_module_version": "1.2.0",
      "_view_name": "StyleView",
      "bar_color": null,
      "description_width": ""
     }
    },
    "7c63e033bb3d47ffa683fb16729a96e9": {
     "model_module": "@jupyter-widgets/base",
     "model_module_version": "1.2.0",
     "model_name": "LayoutModel",
     "state": {
      "_model_module": "@jupyter-widgets/base",
      "_model_module_version": "1.2.0",
      "_model_name": "LayoutModel",
      "_view_count": null,
      "_view_module": "@jupyter-widgets/base",
      "_view_module_version": "1.2.0",
      "_view_name": "LayoutView",
      "align_content": null,
      "align_items": null,
      "align_self": null,
      "border": null,
      "bottom": null,
      "display": null,
      "flex": null,
      "flex_flow": null,
      "grid_area": null,
      "grid_auto_columns": null,
      "grid_auto_flow": null,
      "grid_auto_rows": null,
      "grid_column": null,
      "grid_gap": null,
      "grid_row": null,
      "grid_template_areas": null,
      "grid_template_columns": null,
      "grid_template_rows": null,
      "height": null,
      "justify_content": null,
      "justify_items": null,
      "left": null,
      "margin": null,
      "max_height": null,
      "max_width": null,
      "min_height": null,
      "min_width": null,
      "object_fit": null,
      "object_position": null,
      "order": null,
      "overflow": null,
      "overflow_x": null,
      "overflow_y": null,
      "padding": null,
      "right": null,
      "top": null,
      "visibility": null,
      "width": null
     }
    },
    "844acd6b86b64f608e16ac8f26c3bdef": {
     "model_module": "@jupyter-widgets/controls",
     "model_module_version": "1.5.0",
     "model_name": "HBoxModel",
     "state": {
      "_dom_classes": [],
      "_model_module": "@jupyter-widgets/controls",
      "_model_module_version": "1.5.0",
      "_model_name": "HBoxModel",
      "_view_count": null,
      "_view_module": "@jupyter-widgets/controls",
      "_view_module_version": "1.5.0",
      "_view_name": "HBoxView",
      "box_style": "",
      "children": [
       "IPY_MODEL_366db5defbaa4765b0f8dd360e7a7347",
       "IPY_MODEL_1f71e5902cc549109dc2fa6aab03ce45",
       "IPY_MODEL_f69542d896a341a8bd1c9486364d8b73"
      ],
      "layout": "IPY_MODEL_cab54a6c683849579644a4a78e994390"
     }
    },
    "8f65868ce135495cae543769eca6a3a2": {
     "model_module": "@jupyter-widgets/controls",
     "model_module_version": "1.5.0",
     "model_name": "DescriptionStyleModel",
     "state": {
      "_model_module": "@jupyter-widgets/controls",
      "_model_module_version": "1.5.0",
      "_model_name": "DescriptionStyleModel",
      "_view_count": null,
      "_view_module": "@jupyter-widgets/base",
      "_view_module_version": "1.2.0",
      "_view_name": "StyleView",
      "description_width": ""
     }
    },
    "9298a43fc29242c7bbe6f3f459ac4ba5": {
     "model_module": "@jupyter-widgets/base",
     "model_module_version": "1.2.0",
     "model_name": "LayoutModel",
     "state": {
      "_model_module": "@jupyter-widgets/base",
      "_model_module_version": "1.2.0",
      "_model_name": "LayoutModel",
      "_view_count": null,
      "_view_module": "@jupyter-widgets/base",
      "_view_module_version": "1.2.0",
      "_view_name": "LayoutView",
      "align_content": null,
      "align_items": null,
      "align_self": null,
      "border": null,
      "bottom": null,
      "display": null,
      "flex": null,
      "flex_flow": null,
      "grid_area": null,
      "grid_auto_columns": null,
      "grid_auto_flow": null,
      "grid_auto_rows": null,
      "grid_column": null,
      "grid_gap": null,
      "grid_row": null,
      "grid_template_areas": null,
      "grid_template_columns": null,
      "grid_template_rows": null,
      "height": null,
      "justify_content": null,
      "justify_items": null,
      "left": null,
      "margin": null,
      "max_height": null,
      "max_width": null,
      "min_height": null,
      "min_width": null,
      "object_fit": null,
      "object_position": null,
      "order": null,
      "overflow": null,
      "overflow_x": null,
      "overflow_y": null,
      "padding": null,
      "right": null,
      "top": null,
      "visibility": null,
      "width": null
     }
    },
    "969e41f53f764daf8a043e6737e4956f": {
     "model_module": "@jupyter-widgets/base",
     "model_module_version": "1.2.0",
     "model_name": "LayoutModel",
     "state": {
      "_model_module": "@jupyter-widgets/base",
      "_model_module_version": "1.2.0",
      "_model_name": "LayoutModel",
      "_view_count": null,
      "_view_module": "@jupyter-widgets/base",
      "_view_module_version": "1.2.0",
      "_view_name": "LayoutView",
      "align_content": null,
      "align_items": null,
      "align_self": null,
      "border": null,
      "bottom": null,
      "display": null,
      "flex": null,
      "flex_flow": null,
      "grid_area": null,
      "grid_auto_columns": null,
      "grid_auto_flow": null,
      "grid_auto_rows": null,
      "grid_column": null,
      "grid_gap": null,
      "grid_row": null,
      "grid_template_areas": null,
      "grid_template_columns": null,
      "grid_template_rows": null,
      "height": null,
      "justify_content": null,
      "justify_items": null,
      "left": null,
      "margin": null,
      "max_height": null,
      "max_width": null,
      "min_height": null,
      "min_width": null,
      "object_fit": null,
      "object_position": null,
      "order": null,
      "overflow": null,
      "overflow_x": null,
      "overflow_y": null,
      "padding": null,
      "right": null,
      "top": null,
      "visibility": null,
      "width": null
     }
    },
    "a0a2b2265b6f47d0b18ad62f7f78de7e": {
     "model_module": "@jupyter-widgets/controls",
     "model_module_version": "1.5.0",
     "model_name": "ProgressStyleModel",
     "state": {
      "_model_module": "@jupyter-widgets/controls",
      "_model_module_version": "1.5.0",
      "_model_name": "ProgressStyleModel",
      "_view_count": null,
      "_view_module": "@jupyter-widgets/base",
      "_view_module_version": "1.2.0",
      "_view_name": "StyleView",
      "bar_color": null,
      "description_width": ""
     }
    },
    "a61a2fe10af342c79d1d6ba072855894": {
     "model_module": "@jupyter-widgets/controls",
     "model_module_version": "1.5.0",
     "model_name": "DescriptionStyleModel",
     "state": {
      "_model_module": "@jupyter-widgets/controls",
      "_model_module_version": "1.5.0",
      "_model_name": "DescriptionStyleModel",
      "_view_count": null,
      "_view_module": "@jupyter-widgets/base",
      "_view_module_version": "1.2.0",
      "_view_name": "StyleView",
      "description_width": ""
     }
    },
    "b5ced45eec5a486995791731473b5e4e": {
     "model_module": "@jupyter-widgets/base",
     "model_module_version": "1.2.0",
     "model_name": "LayoutModel",
     "state": {
      "_model_module": "@jupyter-widgets/base",
      "_model_module_version": "1.2.0",
      "_model_name": "LayoutModel",
      "_view_count": null,
      "_view_module": "@jupyter-widgets/base",
      "_view_module_version": "1.2.0",
      "_view_name": "LayoutView",
      "align_content": null,
      "align_items": null,
      "align_self": null,
      "border": null,
      "bottom": null,
      "display": null,
      "flex": null,
      "flex_flow": null,
      "grid_area": null,
      "grid_auto_columns": null,
      "grid_auto_flow": null,
      "grid_auto_rows": null,
      "grid_column": null,
      "grid_gap": null,
      "grid_row": null,
      "grid_template_areas": null,
      "grid_template_columns": null,
      "grid_template_rows": null,
      "height": null,
      "justify_content": null,
      "justify_items": null,
      "left": null,
      "margin": null,
      "max_height": null,
      "max_width": null,
      "min_height": null,
      "min_width": null,
      "object_fit": null,
      "object_position": null,
      "order": null,
      "overflow": null,
      "overflow_x": null,
      "overflow_y": null,
      "padding": null,
      "right": null,
      "top": null,
      "visibility": null,
      "width": null
     }
    },
    "bb2dad2bc8d14b7babb122ecd7b97eac": {
     "model_module": "@jupyter-widgets/base",
     "model_module_version": "1.2.0",
     "model_name": "LayoutModel",
     "state": {
      "_model_module": "@jupyter-widgets/base",
      "_model_module_version": "1.2.0",
      "_model_name": "LayoutModel",
      "_view_count": null,
      "_view_module": "@jupyter-widgets/base",
      "_view_module_version": "1.2.0",
      "_view_name": "LayoutView",
      "align_content": null,
      "align_items": null,
      "align_self": null,
      "border": null,
      "bottom": null,
      "display": null,
      "flex": null,
      "flex_flow": null,
      "grid_area": null,
      "grid_auto_columns": null,
      "grid_auto_flow": null,
      "grid_auto_rows": null,
      "grid_column": null,
      "grid_gap": null,
      "grid_row": null,
      "grid_template_areas": null,
      "grid_template_columns": null,
      "grid_template_rows": null,
      "height": null,
      "justify_content": null,
      "justify_items": null,
      "left": null,
      "margin": null,
      "max_height": null,
      "max_width": null,
      "min_height": null,
      "min_width": null,
      "object_fit": null,
      "object_position": null,
      "order": null,
      "overflow": null,
      "overflow_x": null,
      "overflow_y": null,
      "padding": null,
      "right": null,
      "top": null,
      "visibility": null,
      "width": null
     }
    },
    "bc45a250fc0043c3bfdee0f7d289922b": {
     "model_module": "@jupyter-widgets/base",
     "model_module_version": "1.2.0",
     "model_name": "LayoutModel",
     "state": {
      "_model_module": "@jupyter-widgets/base",
      "_model_module_version": "1.2.0",
      "_model_name": "LayoutModel",
      "_view_count": null,
      "_view_module": "@jupyter-widgets/base",
      "_view_module_version": "1.2.0",
      "_view_name": "LayoutView",
      "align_content": null,
      "align_items": null,
      "align_self": null,
      "border": null,
      "bottom": null,
      "display": null,
      "flex": null,
      "flex_flow": null,
      "grid_area": null,
      "grid_auto_columns": null,
      "grid_auto_flow": null,
      "grid_auto_rows": null,
      "grid_column": null,
      "grid_gap": null,
      "grid_row": null,
      "grid_template_areas": null,
      "grid_template_columns": null,
      "grid_template_rows": null,
      "height": null,
      "justify_content": null,
      "justify_items": null,
      "left": null,
      "margin": null,
      "max_height": null,
      "max_width": null,
      "min_height": null,
      "min_width": null,
      "object_fit": null,
      "object_position": null,
      "order": null,
      "overflow": null,
      "overflow_x": null,
      "overflow_y": null,
      "padding": null,
      "right": null,
      "top": null,
      "visibility": null,
      "width": null
     }
    },
    "bd6bf1fb2f8c40479e1ad9c20dc50b97": {
     "model_module": "@jupyter-widgets/base",
     "model_module_version": "1.2.0",
     "model_name": "LayoutModel",
     "state": {
      "_model_module": "@jupyter-widgets/base",
      "_model_module_version": "1.2.0",
      "_model_name": "LayoutModel",
      "_view_count": null,
      "_view_module": "@jupyter-widgets/base",
      "_view_module_version": "1.2.0",
      "_view_name": "LayoutView",
      "align_content": null,
      "align_items": null,
      "align_self": null,
      "border": null,
      "bottom": null,
      "display": null,
      "flex": null,
      "flex_flow": null,
      "grid_area": null,
      "grid_auto_columns": null,
      "grid_auto_flow": null,
      "grid_auto_rows": null,
      "grid_column": null,
      "grid_gap": null,
      "grid_row": null,
      "grid_template_areas": null,
      "grid_template_columns": null,
      "grid_template_rows": null,
      "height": null,
      "justify_content": null,
      "justify_items": null,
      "left": null,
      "margin": null,
      "max_height": null,
      "max_width": null,
      "min_height": null,
      "min_width": null,
      "object_fit": null,
      "object_position": null,
      "order": null,
      "overflow": null,
      "overflow_x": null,
      "overflow_y": null,
      "padding": null,
      "right": null,
      "top": null,
      "visibility": null,
      "width": null
     }
    },
    "cab54a6c683849579644a4a78e994390": {
     "model_module": "@jupyter-widgets/base",
     "model_module_version": "1.2.0",
     "model_name": "LayoutModel",
     "state": {
      "_model_module": "@jupyter-widgets/base",
      "_model_module_version": "1.2.0",
      "_model_name": "LayoutModel",
      "_view_count": null,
      "_view_module": "@jupyter-widgets/base",
      "_view_module_version": "1.2.0",
      "_view_name": "LayoutView",
      "align_content": null,
      "align_items": null,
      "align_self": null,
      "border": null,
      "bottom": null,
      "display": null,
      "flex": null,
      "flex_flow": null,
      "grid_area": null,
      "grid_auto_columns": null,
      "grid_auto_flow": null,
      "grid_auto_rows": null,
      "grid_column": null,
      "grid_gap": null,
      "grid_row": null,
      "grid_template_areas": null,
      "grid_template_columns": null,
      "grid_template_rows": null,
      "height": null,
      "justify_content": null,
      "justify_items": null,
      "left": null,
      "margin": null,
      "max_height": null,
      "max_width": null,
      "min_height": null,
      "min_width": null,
      "object_fit": null,
      "object_position": null,
      "order": null,
      "overflow": null,
      "overflow_x": null,
      "overflow_y": null,
      "padding": null,
      "right": null,
      "top": null,
      "visibility": null,
      "width": null
     }
    },
    "ce1a091b20254d65a52094cea70300f2": {
     "model_module": "@jupyter-widgets/base",
     "model_module_version": "1.2.0",
     "model_name": "LayoutModel",
     "state": {
      "_model_module": "@jupyter-widgets/base",
      "_model_module_version": "1.2.0",
      "_model_name": "LayoutModel",
      "_view_count": null,
      "_view_module": "@jupyter-widgets/base",
      "_view_module_version": "1.2.0",
      "_view_name": "LayoutView",
      "align_content": null,
      "align_items": null,
      "align_self": null,
      "border": null,
      "bottom": null,
      "display": null,
      "flex": null,
      "flex_flow": null,
      "grid_area": null,
      "grid_auto_columns": null,
      "grid_auto_flow": null,
      "grid_auto_rows": null,
      "grid_column": null,
      "grid_gap": null,
      "grid_row": null,
      "grid_template_areas": null,
      "grid_template_columns": null,
      "grid_template_rows": null,
      "height": null,
      "justify_content": null,
      "justify_items": null,
      "left": null,
      "margin": null,
      "max_height": null,
      "max_width": null,
      "min_height": null,
      "min_width": null,
      "object_fit": null,
      "object_position": null,
      "order": null,
      "overflow": null,
      "overflow_x": null,
      "overflow_y": null,
      "padding": null,
      "right": null,
      "top": null,
      "visibility": null,
      "width": null
     }
    },
    "d480f99815f14dbbbc54e384bf473608": {
     "model_module": "@jupyter-widgets/controls",
     "model_module_version": "1.5.0",
     "model_name": "ProgressStyleModel",
     "state": {
      "_model_module": "@jupyter-widgets/controls",
      "_model_module_version": "1.5.0",
      "_model_name": "ProgressStyleModel",
      "_view_count": null,
      "_view_module": "@jupyter-widgets/base",
      "_view_module_version": "1.2.0",
      "_view_name": "StyleView",
      "bar_color": null,
      "description_width": ""
     }
    },
    "f69542d896a341a8bd1c9486364d8b73": {
     "model_module": "@jupyter-widgets/controls",
     "model_module_version": "1.5.0",
     "model_name": "HTMLModel",
     "state": {
      "_dom_classes": [],
      "_model_module": "@jupyter-widgets/controls",
      "_model_module_version": "1.5.0",
      "_model_name": "HTMLModel",
      "_view_count": null,
      "_view_module": "@jupyter-widgets/controls",
      "_view_module_version": "1.5.0",
      "_view_name": "HTMLView",
      "description": "",
      "description_tooltip": null,
      "layout": "IPY_MODEL_ce1a091b20254d65a52094cea70300f2",
      "placeholder": "​",
      "style": "IPY_MODEL_a61a2fe10af342c79d1d6ba072855894",
      "value": " 10000/10000 [00:07&lt;00:00, 1326.31it/s]"
     }
    }
   }
  }
 },
 "nbformat": 4,
 "nbformat_minor": 1
}
