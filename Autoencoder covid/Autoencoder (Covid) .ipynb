{
 "cells": [
  {
   "cell_type": "markdown",
   "metadata": {},
   "source": [
    "# Setup"
   ]
  },
  {
   "cell_type": "markdown",
   "metadata": {},
   "source": [
    "# 0. Preparation\n",
    "\n",
    "In this part, you will use a dataset related to COVID-19. Load your dataset using pandas."
   ]
  },
  {
   "cell_type": "code",
   "execution_count": 1,
   "metadata": {},
   "outputs": [],
   "source": [
    "import pandas as pd\n",
    "from sklearn.preprocessing import LabelEncoder\n",
    "covid_data = pd.read_csv('Covid Dataset.csv')\n",
    "categorical_feature_mask = covid_data.dtypes == object\n",
    "cateforical_cols = covid_data.columns[categorical_feature_mask].tolist()\n",
    "le = LabelEncoder()\n",
    "covid_data[cateforical_cols] = covid_data[cateforical_cols].apply(lambda col: le.fit_transform(col))\n",
    "covid_data = covid_data.astype(float)\n",
    "\n",
    "# Extract X and Y from the dataset\n",
    "X_total = covid_data.iloc[:, 0:20].values\n",
    "y_total = covid_data.iloc[:,20].values\n",
    "\n",
    "\n",
    "#SPLIT THE DATA INTO TRAIN AND TEST DATA \n",
    "from sklearn.model_selection import train_test_split\n",
    "X_train, X_test, y_train, y_test = train_test_split(X_total, y_total, test_size = 0.3, random_state = 0)"
   ]
  },
  {
   "cell_type": "markdown",
   "metadata": {},
   "source": [
    "---------------"
   ]
  },
  {
   "cell_type": "markdown",
   "metadata": {},
   "source": [
    "# 1. DNN as nonlinear dimensionality reduction method (50 Points)\n",
    "\n",
    "Autoencoder is an unsupervised artificial neural network that compresses the data to lower dimension and then reconstructs the input back. Autoencoder finds the representation of the data in a lower dimension by focusing more on the important features getting rid of noise and redundancy. It's based on Encoder-Decoder architecture, where encoder encodes the high-dimensional data to lower-dimension and decoder takes the lower-dimensional data and tries to reconstruct the original high-dimensional data.\n",
    "\n",
    "![picture](https://drive.google.com/uc?id=1RTZwx4xL6zFV_nUENBgWlFKLKldPoyI-)\n",
    "\n",
    "In the above Diagram, X is the input data, z is the lower-dimension representation of input X and X’ is the reconstructed input data. The mapping of higher to lower dimensions can be linear or non-linear depending on the choice of the activation function.\n",
    "\n",
    "In this part you're gonna implement an autoencoder using Keras framework as dimensionally reduction module as explained [here](https://blog.keras.io/building-autoencoders-in-keras.html).\n",
    "(It would be ok to use PyTorch as well.)\n",
    "Reduce the dimension of the data to 2 dimensions and visualize the low-dimensional data."
   ]
  },
  {
   "cell_type": "code",
   "execution_count": 2,
   "metadata": {
    "id": "moGEgpV999cl"
   },
   "outputs": [],
   "source": [
    "# import necessary libraries\n",
    "import keras\n",
    "from keras import backend as K\n",
    "from keras import layers\n",
    "import matplotlib.pyplot as plt\n",
    "from keras import regularizers\n",
    "import numpy as np"
   ]
  },
  {
   "cell_type": "code",
   "execution_count": 3,
   "metadata": {},
   "outputs": [],
   "source": [
    "# define layers (25 Points)\n",
    "#x -> 3803, 20\n",
    "#y -> 3803,\n",
    "def sampling(args):\n",
    "    z_mean, z_log_sigma = args\n",
    "    epsilon = K.random_normal(shape=(K.shape(z_mean)[0], latent_dim), mean=0., stddev=0.1)\n",
    "    return z_mean + K.exp(z_log_sigma) * epsilon\n",
    "\n",
    "original_dim = 20\n",
    "intermediate_dim = 10\n",
    "latent_dim = 1\n",
    "\n",
    "inputs = keras.Input(shape=(original_dim,))\n",
    "h = layers.Dense(intermediate_dim, activation='relu')(inputs)\n",
    "z_mean = layers.Dense(latent_dim)(h)\n",
    "z_log_sigma = layers.Dense(latent_dim)(h)\n",
    "z = layers.Lambda(sampling)([z_mean, z_log_sigma])\n",
    "encoder = keras.Model(inputs, [z_mean, z_log_sigma, z], name='encoder')\n",
    "latent_inputs = keras.Input(shape=(latent_dim,), name='z_sampling')\n",
    "x = layers.Dense(intermediate_dim, activation='relu')(latent_inputs)\n",
    "outputs = layers.Dense(original_dim, activation='sigmoid')(x)\n",
    "decoder = keras.Model(latent_inputs, outputs, name='decoder')\n",
    "\n",
    "# VAE\n",
    "outputs = decoder(encoder(inputs)[2])\n",
    "vae = keras.Model(inputs, outputs, name='vae_mlp')"
   ]
  },
  {
   "cell_type": "code",
   "execution_count": 4,
   "metadata": {},
   "outputs": [
    {
     "name": "stdout",
     "output_type": "stream",
     "text": [
      "Epoch 1/100\n",
      "191/191 [==============================] - 5s 10ms/step - loss: 13.3058 - val_loss: 12.5401\n",
      "Epoch 2/100\n",
      "191/191 [==============================] - 1s 7ms/step - loss: 12.1413 - val_loss: 11.8370\n",
      "Epoch 3/100\n",
      "191/191 [==============================] - 1s 6ms/step - loss: 11.6105 - val_loss: 11.3883\n",
      "Epoch 4/100\n",
      "191/191 [==============================] - 1s 7ms/step - loss: 11.2491 - val_loss: 11.1375\n",
      "Epoch 5/100\n",
      "191/191 [==============================] - 1s 6ms/step - loss: 11.0556 - val_loss: 11.0130\n",
      "Epoch 6/100\n",
      "191/191 [==============================] - 2s 10ms/step - loss: 10.9692 - val_loss: 10.9598\n",
      "Epoch 7/100\n",
      "191/191 [==============================] - 1s 8ms/step - loss: 10.9117 - val_loss: 10.9179\n",
      "Epoch 8/100\n",
      "191/191 [==============================] - 1s 5ms/step - loss: 10.8857 - val_loss: 10.8946\n",
      "Epoch 9/100\n",
      "191/191 [==============================] - 1s 7ms/step - loss: 10.8566 - val_loss: 10.8782\n",
      "Epoch 10/100\n",
      "191/191 [==============================] - 2s 8ms/step - loss: 10.8385 - val_loss: 10.8641\n",
      "Epoch 11/100\n",
      "191/191 [==============================] - 2s 10ms/step - loss: 10.8218 - val_loss: 10.8520\n",
      "Epoch 12/100\n",
      "191/191 [==============================] - 2s 9ms/step - loss: 10.8155 - val_loss: 10.8439\n",
      "Epoch 13/100\n",
      "191/191 [==============================] - 2s 8ms/step - loss: 10.8131 - val_loss: 10.8394\n",
      "Epoch 14/100\n",
      "191/191 [==============================] - 1s 7ms/step - loss: 10.8005 - val_loss: 10.8392\n",
      "Epoch 15/100\n",
      "191/191 [==============================] - 1s 7ms/step - loss: 10.7999 - val_loss: 10.8194\n",
      "Epoch 16/100\n",
      "191/191 [==============================] - 2s 9ms/step - loss: 10.7928 - val_loss: 10.8155\n",
      "Epoch 17/100\n",
      "191/191 [==============================] - 2s 9ms/step - loss: 10.7748 - val_loss: 10.8045\n",
      "Epoch 18/100\n",
      "191/191 [==============================] - 1s 5ms/step - loss: 10.7783 - val_loss: 10.8027\n",
      "Epoch 19/100\n",
      "191/191 [==============================] - 2s 10ms/step - loss: 10.7745 - val_loss: 10.8035\n",
      "Epoch 20/100\n",
      "191/191 [==============================] - 1s 8ms/step - loss: 10.7497 - val_loss: 10.7934\n",
      "Epoch 21/100\n",
      "191/191 [==============================] - 1s 6ms/step - loss: 10.7598 - val_loss: 10.7851\n",
      "Epoch 22/100\n",
      "191/191 [==============================] - 1s 6ms/step - loss: 10.7509 - val_loss: 10.7833\n",
      "Epoch 23/100\n",
      "191/191 [==============================] - 1s 6ms/step - loss: 10.7417 - val_loss: 10.7719\n",
      "Epoch 24/100\n",
      "191/191 [==============================] - 1s 5ms/step - loss: 10.7329 - val_loss: 10.7747\n",
      "Epoch 25/100\n",
      "191/191 [==============================] - 1s 5ms/step - loss: 10.7294 - val_loss: 10.7686\n",
      "Epoch 26/100\n",
      "191/191 [==============================] - 1s 8ms/step - loss: 10.7296 - val_loss: 10.7629\n",
      "Epoch 27/100\n",
      "191/191 [==============================] - 1s 7ms/step - loss: 10.7349 - val_loss: 10.7557\n",
      "Epoch 28/100\n",
      "191/191 [==============================] - 1s 6ms/step - loss: 10.7124 - val_loss: 10.7343\n",
      "Epoch 29/100\n",
      "191/191 [==============================] - 1s 6ms/step - loss: 10.6813 - val_loss: 10.7141\n",
      "Epoch 30/100\n",
      "191/191 [==============================] - 2s 10ms/step - loss: 10.6652 - val_loss: 10.7040\n",
      "Epoch 31/100\n",
      "191/191 [==============================] - 2s 9ms/step - loss: 10.6441 - val_loss: 10.6940\n",
      "Epoch 32/100\n",
      "191/191 [==============================] - 1s 7ms/step - loss: 10.6277 - val_loss: 10.6795\n",
      "Epoch 33/100\n",
      "191/191 [==============================] - 1s 5ms/step - loss: 10.6366 - val_loss: 10.6725\n",
      "Epoch 34/100\n",
      "191/191 [==============================] - 1s 4ms/step - loss: 10.6193 - val_loss: 10.6678\n",
      "Epoch 35/100\n",
      "191/191 [==============================] - 1s 5ms/step - loss: 10.6048 - val_loss: 10.6550\n",
      "Epoch 36/100\n",
      "191/191 [==============================] - 1s 4ms/step - loss: 10.6124 - val_loss: 10.6452\n",
      "Epoch 37/100\n",
      "191/191 [==============================] - 1s 4ms/step - loss: 10.5996 - val_loss: 10.6409\n",
      "Epoch 38/100\n",
      "191/191 [==============================] - 1s 5ms/step - loss: 10.6015 - val_loss: 10.6519\n",
      "Epoch 39/100\n",
      "191/191 [==============================] - 1s 5ms/step - loss: 10.5891 - val_loss: 10.6304\n",
      "Epoch 40/100\n",
      "191/191 [==============================] - 1s 4ms/step - loss: 10.5751 - val_loss: 10.6317\n",
      "Epoch 41/100\n",
      "191/191 [==============================] - 1s 5ms/step - loss: 10.5852 - val_loss: 10.6371\n",
      "Epoch 42/100\n",
      "191/191 [==============================] - 1s 4ms/step - loss: 10.5790 - val_loss: 10.6233\n",
      "Epoch 43/100\n",
      "191/191 [==============================] - 1s 5ms/step - loss: 10.5733 - val_loss: 10.6111\n",
      "Epoch 44/100\n",
      "191/191 [==============================] - 1s 4ms/step - loss: 10.5647 - val_loss: 10.6121\n",
      "Epoch 45/100\n",
      "191/191 [==============================] - 1s 5ms/step - loss: 10.5627 - val_loss: 10.6048\n",
      "Epoch 46/100\n",
      "191/191 [==============================] - 1s 4ms/step - loss: 10.5701 - val_loss: 10.6094\n",
      "Epoch 47/100\n",
      "191/191 [==============================] - 1s 4ms/step - loss: 10.5536 - val_loss: 10.6016\n",
      "Epoch 48/100\n",
      "191/191 [==============================] - 1s 4ms/step - loss: 10.5620 - val_loss: 10.6007\n",
      "Epoch 49/100\n",
      "191/191 [==============================] - 1s 5ms/step - loss: 10.5544 - val_loss: 10.5926\n",
      "Epoch 50/100\n",
      "191/191 [==============================] - 1s 6ms/step - loss: 10.5578 - val_loss: 10.5872\n",
      "Epoch 51/100\n",
      "191/191 [==============================] - 1s 5ms/step - loss: 10.5470 - val_loss: 10.5892\n",
      "Epoch 52/100\n",
      "191/191 [==============================] - 1s 5ms/step - loss: 10.5461 - val_loss: 10.5852\n",
      "Epoch 53/100\n",
      "191/191 [==============================] - 1s 5ms/step - loss: 10.5439 - val_loss: 10.5904\n",
      "Epoch 54/100\n",
      "191/191 [==============================] - 1s 7ms/step - loss: 10.5344 - val_loss: 10.5754\n",
      "Epoch 55/100\n",
      "191/191 [==============================] - 1s 7ms/step - loss: 10.5355 - val_loss: 10.5796\n",
      "Epoch 56/100\n",
      "191/191 [==============================] - 1s 7ms/step - loss: 10.5251 - val_loss: 10.5765\n",
      "Epoch 57/100\n",
      "191/191 [==============================] - 1s 7ms/step - loss: 10.5236 - val_loss: 10.5801\n",
      "Epoch 58/100\n",
      "191/191 [==============================] - 1s 5ms/step - loss: 10.5245 - val_loss: 10.5697\n",
      "Epoch 59/100\n",
      "191/191 [==============================] - 1s 6ms/step - loss: 10.5301 - val_loss: 10.5863\n",
      "Epoch 60/100\n",
      "191/191 [==============================] - 1s 6ms/step - loss: 10.5233 - val_loss: 10.5697\n",
      "Epoch 61/100\n",
      "191/191 [==============================] - 2s 8ms/step - loss: 10.5301 - val_loss: 10.5631\n",
      "Epoch 62/100\n",
      "191/191 [==============================] - 1s 6ms/step - loss: 10.5279 - val_loss: 10.5514\n",
      "Epoch 63/100\n",
      "191/191 [==============================] - 1s 6ms/step - loss: 10.5222 - val_loss: 10.5619\n",
      "Epoch 64/100\n",
      "191/191 [==============================] - 2s 10ms/step - loss: 10.5190 - val_loss: 10.5520\n",
      "Epoch 65/100\n",
      "191/191 [==============================] - 2s 11ms/step - loss: 10.5184 - val_loss: 10.5474\n",
      "Epoch 66/100\n",
      "191/191 [==============================] - 2s 11ms/step - loss: 10.5235 - val_loss: 10.5585\n",
      "Epoch 67/100\n",
      "191/191 [==============================] - 1s 8ms/step - loss: 10.5089 - val_loss: 10.5454\n",
      "Epoch 68/100\n",
      "191/191 [==============================] - 1s 6ms/step - loss: 10.5024 - val_loss: 10.5521\n",
      "Epoch 69/100\n",
      "191/191 [==============================] - 1s 5ms/step - loss: 10.4895 - val_loss: 10.5368\n",
      "Epoch 70/100\n",
      "191/191 [==============================] - 1s 5ms/step - loss: 10.5059 - val_loss: 10.5387\n",
      "Epoch 71/100\n",
      "191/191 [==============================] - 1s 5ms/step - loss: 10.5071 - val_loss: 10.5374\n",
      "Epoch 72/100\n",
      "191/191 [==============================] - 1s 6ms/step - loss: 10.4941 - val_loss: 10.5376\n",
      "Epoch 73/100\n",
      "191/191 [==============================] - 1s 4ms/step - loss: 10.4991 - val_loss: 10.5318\n",
      "Epoch 74/100\n",
      "191/191 [==============================] - 1s 6ms/step - loss: 10.4903 - val_loss: 10.5484\n",
      "Epoch 75/100\n",
      "191/191 [==============================] - 1s 7ms/step - loss: 10.4962 - val_loss: 10.5298\n",
      "Epoch 76/100\n",
      "191/191 [==============================] - 1s 6ms/step - loss: 10.4921 - val_loss: 10.5335\n",
      "Epoch 77/100\n",
      "191/191 [==============================] - 1s 5ms/step - loss: 10.4905 - val_loss: 10.5304\n",
      "Epoch 78/100\n",
      "191/191 [==============================] - 1s 7ms/step - loss: 10.4896 - val_loss: 10.5196\n",
      "Epoch 79/100\n",
      "191/191 [==============================] - 1s 5ms/step - loss: 10.4960 - val_loss: 10.5233\n"
     ]
    },
    {
     "name": "stdout",
     "output_type": "stream",
     "text": [
      "Epoch 80/100\n",
      "191/191 [==============================] - 1s 6ms/step - loss: 10.4859 - val_loss: 10.5222\n",
      "Epoch 81/100\n",
      "191/191 [==============================] - 1s 7ms/step - loss: 10.4791 - val_loss: 10.5100\n",
      "Epoch 82/100\n",
      "191/191 [==============================] - 1s 6ms/step - loss: 10.4721 - val_loss: 10.5124\n",
      "Epoch 83/100\n",
      "191/191 [==============================] - 1s 7ms/step - loss: 10.4596 - val_loss: 10.5076\n",
      "Epoch 84/100\n",
      "191/191 [==============================] - 2s 8ms/step - loss: 10.4783 - val_loss: 10.5047\n",
      "Epoch 85/100\n",
      "191/191 [==============================] - 1s 6ms/step - loss: 10.4726 - val_loss: 10.5009\n",
      "Epoch 86/100\n",
      "191/191 [==============================] - 2s 9ms/step - loss: 10.4669 - val_loss: 10.5005\n",
      "Epoch 87/100\n",
      "191/191 [==============================] - 1s 7ms/step - loss: 10.4648 - val_loss: 10.4916\n",
      "Epoch 88/100\n",
      "191/191 [==============================] - 2s 8ms/step - loss: 10.4590 - val_loss: 10.4958\n",
      "Epoch 89/100\n",
      "191/191 [==============================] - 2s 9ms/step - loss: 10.4442 - val_loss: 10.4799\n",
      "Epoch 90/100\n",
      "191/191 [==============================] - 1s 7ms/step - loss: 10.4607 - val_loss: 10.4772\n",
      "Epoch 91/100\n",
      "191/191 [==============================] - 1s 6ms/step - loss: 10.4491 - val_loss: 10.4976\n",
      "Epoch 92/100\n",
      "191/191 [==============================] - 2s 8ms/step - loss: 10.4491 - val_loss: 10.4713\n",
      "Epoch 93/100\n",
      "191/191 [==============================] - 1s 6ms/step - loss: 10.4389 - val_loss: 10.4745\n",
      "Epoch 94/100\n",
      "191/191 [==============================] - 1s 5ms/step - loss: 10.4367 - val_loss: 10.4758\n",
      "Epoch 95/100\n",
      "191/191 [==============================] - 2s 9ms/step - loss: 10.4422 - val_loss: 10.4608\n",
      "Epoch 96/100\n",
      "191/191 [==============================] - 1s 4ms/step - loss: 10.4325 - val_loss: 10.4623\n",
      "Epoch 97/100\n",
      "191/191 [==============================] - 1s 4ms/step - loss: 10.4294 - val_loss: 10.4534\n",
      "Epoch 98/100\n",
      "191/191 [==============================] - 1s 5ms/step - loss: 10.4283 - val_loss: 10.4489\n",
      "Epoch 99/100\n",
      "191/191 [==============================] - 1s 4ms/step - loss: 10.4282 - val_loss: 10.4463\n",
      "Epoch 100/100\n",
      "191/191 [==============================] - 1s 6ms/step - loss: 10.4214 - val_loss: 10.4440\n"
     ]
    },
    {
     "data": {
      "text/plain": [
       "<keras.callbacks.History at 0x21482a27490>"
      ]
     },
     "execution_count": 4,
     "metadata": {},
     "output_type": "execute_result"
    }
   ],
   "source": [
    "# train the model and reduce the dimension of the data (15 Points)\n",
    "reconstruction_loss = keras.losses.binary_crossentropy(inputs, outputs)\n",
    "reconstruction_loss *= original_dim\n",
    "kl_loss = 1 + z_log_sigma - K.square(z_mean) - K.exp(z_log_sigma)\n",
    "kl_loss = K.sum(kl_loss, axis=-1)\n",
    "kl_loss *= -0.5\n",
    "vae_loss = K.mean(reconstruction_loss + kl_loss)\n",
    "vae.add_loss(vae_loss)\n",
    "vae.compile(optimizer='adam')\n",
    "vae.fit(X_train, X_train,\n",
    "        epochs=100,\n",
    "        batch_size=20,\n",
    "        validation_data=(X_test, X_test))"
   ]
  },
  {
   "cell_type": "code",
   "execution_count": 5,
   "metadata": {},
   "outputs": [
    {
     "name": "stdout",
     "output_type": "stream",
     "text": [
      "51/51 [==============================] - 0s 2ms/step\n"
     ]
    },
    {
     "data": {
      "image/png": "[encoded data removed]",
      "text/plain": [
       "<Figure size 432x432 with 2 Axes>"
      ]
     },
     "metadata": {
      "needs_background": "light"
     },
     "output_type": "display_data"
    }
   ],
   "source": [
    "# Plot the encoded data (10 Points)\n",
    "arr = encoder.predict(X_test, batch_size=32)\n",
    "x_test_encoded = np.array(arr)\n",
    "plt.figure(figsize=(6, 6))\n",
    "plt.scatter(x_test_encoded[0], x_test_encoded[1], c = y_test)\n",
    "plt.colorbar()\n",
    "plt.show()"
   ]
  }
 ],
 "metadata": {
  "colab": {
   "provenance": []
  },
  "kernelspec": {
   "display_name": "Python 3 (ipykernel)",
   "language": "python",
   "name": "python3"
  },
  "language_info": {
   "codemirror_mode": {
    "name": "ipython",
    "version": 3
   },
   "file_extension": ".py",
   "mimetype": "text/x-python",
   "name": "python",
   "nbconvert_exporter": "python",
   "pygments_lexer": "ipython3",
   "version": "3.10.11"
  },
  "vscode": {
   "interpreter": {
    "hash": "81794d4967e6c3204c66dcd87b604927b115b27c00565d3d43f05ba2f3a2cb0d"
   }
  }
 },
 "nbformat": 4,
 "nbformat_minor": 1
}
